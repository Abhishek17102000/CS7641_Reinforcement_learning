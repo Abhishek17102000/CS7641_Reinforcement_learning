{
 "cells": [
  {
   "cell_type": "code",
   "execution_count": 12,
   "metadata": {},
   "outputs": [],
   "source": [
    "import numpy as np\n",
    "from time import sleep\n",
    "from random import random, randint, choice\n",
    "import pickle\n",
    "from math import cos, sin, sqrt, exp, pi\n",
    "from matplotlib import animation, rc\n",
    "import matplotlib.pyplot as plt\n",
    "from IPython.display import HTML\n",
    "\n",
    "import winsound\n",
    "frequency = 1000\n",
    "duration = 1000\n",
    "\n",
    "from tqdm import tqdm as tqdm_base\n",
    "def tqdm(*args, **kwargs):\n",
    "    if hasattr(tqdm_base, '_instances'):\n",
    "        for instance in list(tqdm_base._instances):\n",
    "            tqdm_base._decr_instances(instance)\n",
    "    return tqdm_base(*args, **kwargs)\n"
   ]
  },
  {
   "cell_type": "code",
   "execution_count": 13,
   "metadata": {},
   "outputs": [],
   "source": [
    "class Reacher:\n",
    "    def __init__(self, arm_nbr=2, α_res=100, x_res=100, reward_reach=100, reach_distance=0.5, reward_gradient_multiplier=1, respawn_target=False):\n",
    "        self.arm_nbr = arm_nbr\n",
    "        self.arm_length = sqrt(2)*x_res/(2*arm_nbr)\n",
    "        self.α_res = α_res\n",
    "        self.x_res = x_res\n",
    "        self.reward_reach = reward_reach\n",
    "        self.reach_distance = reach_distance\n",
    "        self.reward_gradient_multiplier = reward_gradient_multiplier\n",
    "        self.respawn_target = respawn_target\n",
    "        self.Rs = {}\n",
    "        self.Tss = {}\n",
    "    \n",
    "    def randomPolicy(self):\n",
    "        π = {state: choice(self.actions(state)) for state in self.states()}\n",
    "        return π\n",
    "\n",
    "    def states(self):\n",
    "        if self.arm_nbr==1:\n",
    "            return tuple((α1,x1,x2) for α1 in range(self.α_res) for x1 in range(int(-self.x_res/2),int(self.x_res/2)) for x2 in range(int(-self.x_res/2),int(self.x_res/2)))\n",
    "        elif self.arm_nbr==2:\n",
    "            return tuple((α1,α2,x1,x2) for α1 in range(self.α_res) for α2 in range(self.α_res) for x1 in range(int(-self.x_res/2),int(self.x_res/2)) for x2 in range(int(-self.x_res/2),int(self.x_res/2)))\n",
    "        elif self.arm_nbr==3:\n",
    "            return tuple((α1,α2,α3,x1,x2) for α1 in range(self.α_res) for α2 in range(self.α_res) for α3 in range(self.α_res) for x1 in range(int(-self.x_res/2),int(self.x_res/2)) for x2 in range(int(-self.x_res/2),int(self.x_res/2)))\n",
    "\n",
    "    def startingStates(self):\n",
    "        if self.arm_nbr==1:\n",
    "            return tuple((0,x1,x2) for x1 in range(int(-self.x_res/2),int(self.x_res/2)) for x2 in range(int(-self.x_res/2),int(self.x_res/2)))\n",
    "        elif self.arm_nbr==2:\n",
    "            return tuple((0,self.α_res/2,x1,x2) for x1 in range(int(-self.x_res/2),int(self.x_res/2)) for x2 in range(int(-self.x_res/2),int(self.x_res/2)))\n",
    "        elif self.arm_nbr==3:\n",
    "            return tuple((0,self.α_res/2,self.α_res/2,x1,x2) for x1 in range(int(-self.x_res/2),int(self.x_res/2)) for x2 in range(int(-self.x_res/2),int(self.x_res/2)))\n",
    "\n",
    "    def actions(self, state=None):\n",
    "        if self.arm_nbr==1:\n",
    "            return tuple(tuple(a1) for a1 in [-1,0,+1])\n",
    "        elif self.arm_nbr==2:\n",
    "            return tuple((a1,a2) for a1 in [-1,0,+1] for a2 in [-1,0,+1])\n",
    "        elif self.arm_nbr==3:\n",
    "            return tuple((a1,a2,a3) for a1 in [-1,0,+1] for a2 in [-1,0,+1] for a3 in [-1,0,+1]) \n",
    "\n",
    "    def R(self, state):\n",
    "        if state in self.Rs: return self.Rs[state]\n",
    "        if self.arm_nbr==1:\n",
    "            α1,x1,x2 = state\n",
    "            α1 = 2*pi*α1/float(self.α_res)\n",
    "            y1,y2 = (self.arm_length*cos(α1) , self.arm_length*sin(α1))\n",
    "        elif self.arm_nbr==2:\n",
    "            α1,α2,x1,x2 = state\n",
    "            α1 = 2*pi*α1/float(self.α_res)\n",
    "            α2 = 2*pi*(α2/float(self.α_res)-0.5)\n",
    "            y1,y2 = (self.arm_length*(cos(α1)+cos(α1+α2)) , self.arm_length*(sin(α1)+sin(α1+α2)))\n",
    "        elif self.arm_nbr==3:\n",
    "            α1,α2,α3,x1,x2 = state\n",
    "            α1 = 2*pi*α1/float(self.α_res)\n",
    "            α2 = 2*pi*(α2/float(self.α_res)-0.5)\n",
    "            α3 = 2*pi*(α3/float(self.α_res)-0.5)\n",
    "            y1,y2 = (self.arm_length*(cos(α1)+cos(α1+α2)+cos(α1+α2+α3)) , self.arm_length*(sin(α1)+sin(α1+α2)+sin(α1+α2+α3)))\n",
    "        d = sqrt((x1-y1)**2+(x2-y2)**2)\n",
    "        r = self.reward_reach if d<=self.reach_distance else self.reward_gradient_multiplier*exp(-0.05*d)/self.reward_reach\n",
    "        self.Rs[state] = r\n",
    "        return r\n",
    "    \n",
    "    def T(self,state,action):\n",
    "        # if (state,action) in self.Tss: return self.Tss[(state,action)]\n",
    "        state_t = state\n",
    "        if self.arm_nbr==1:\n",
    "            α1,x1,x2 = state\n",
    "            if self.respawn_target:\n",
    "                y1,y2 = (self.arm_length*cos(2*pi*α1/float(self.α_res)) , self.arm_length*sin(2*pi*α1/float(self.α_res)))\n",
    "                d = sqrt((x1-y1)**2+(x2-y2)**2)\n",
    "                if d<=self.reach_distance:\n",
    "                    x1 = randint(-self.x_res/2,self.x_res/2-1)\n",
    "                    x2 = randint(-self.x_res/2,self.x_res/2-1)\n",
    "            α1 += action[0]\n",
    "            α1 %= self.α_res\n",
    "            state = (α1,x1,x2)\n",
    "        elif self.arm_nbr==2:\n",
    "            α1,α2,x1,x2 = state\n",
    "            if self.respawn_target:\n",
    "                y1,y2 = (self.arm_length*(cos(2*pi*α1/float(self.α_res))+cos(2*pi*α1/float(self.α_res)+2*pi*(α2/float(self.α_res)-0.5))) , self.arm_length*(sin(2*pi*α1/float(self.α_res))+sin(2*pi*α1/float(self.α_res)+2*pi*(α2/float(self.α_res)-0.5))))\n",
    "                d = sqrt((x1-y1)**2+(x2-y2)**2)\n",
    "                if d<=self.reach_distance:\n",
    "                    x1 = randint(-int(self.x_res/2),int(self.x_res/2)-1)\n",
    "                    x2 = randint(-int(self.x_res/2),int(self.x_res/2)-1)\n",
    "            α1 += action[0]\n",
    "            α2 += action[1]\n",
    "            α1 %= self.α_res\n",
    "            α2 %= self.α_res\n",
    "            state = (α1,α2,x1,x2)\n",
    "        elif self.arm_nbr==3:\n",
    "            α1,α2,α3,x1,x2 = state\n",
    "            if self.respawn_target:\n",
    "                y1,y2 = (self.arm_length*(cos(2*pi*α1/float(self.α_res))+cos(2*pi*α1/float(self.α_res)+2*pi*(α2/float(self.α_res)-0.5))+cos(2*pi*α1/float(self.α_res)+2*pi*(α2/float(self.α_res)-0.5)+2*pi*(α3/float(self.α_res)-0.5))) , self.arm_length*(sin(2*pi*α1/float(self.α_res))+sin(2*pi*α1/float(self.α_res)+2*pi*(α2/float(self.α_res)-0.5))+sin(2*pi*α1/float(self.α_res)+2*pi*(α2/float(self.α_res)-0.5)+2*pi*(α3/float(self.α_res)-0.5))))\n",
    "                d = sqrt((x1-y1)**2+(x2-y2)**2)\n",
    "                if d<=self.reach_distance:\n",
    "                    x1 = randint(-self.x_res/2,self.x_res/2-1)\n",
    "                    x2 = randint(-self.x_res/2,self.x_res/2-1)\n",
    "            α1 += action[0]\n",
    "            α2 += action[1]\n",
    "            α3 += action[1]\n",
    "            α1 %= self.α_res\n",
    "            α2 %= self.α_res\n",
    "            α3 %= self.α_res\n",
    "            state = (α1,α2,α3,x1,x2)\n",
    "        # self.Tss[(state_t,action)] = state\n",
    "        return state\n",
    "    \n",
    "    def Ts(self,state,action):\n",
    "        return {self.T(state,action):1}\n",
    "    \n",
    "    def play(self, π, nbr_turns=0, position=(0,0), display=True, respawn_target=True):\n",
    "        respawn_target_backup = self.respawn_target\n",
    "        self.respawn_target = respawn_target\n",
    "        if nbr_turns==0:\n",
    "            nbr_turns = 3*self.α_res\n",
    "        state = choice(self.startingStates())\n",
    "        if position!=(0,0):\n",
    "            state = (*state[:self.arm_nbr], *position)\n",
    "        score = 0\n",
    "        if display:\n",
    "            fig, ax = plt.subplots()\n",
    "            ax.set_xlim(-sqrt(2)*self.x_res/2, +sqrt(2)*self.x_res/2)\n",
    "            ax.set_ylim(-sqrt(2)*self.x_res/2, +sqrt(2)*self.x_res/2)\n",
    "            arm, = ax.plot([], [], lw=3, marker='o', color=\"Goldenrod\")\n",
    "            target, = ax.plot([], [], markersize=10, marker='o', color=\"IndianRed\")\n",
    "            def init():\n",
    "                arm.set_data([], [])\n",
    "                return (arm,)\n",
    "            def animate(i):\n",
    "                nonlocal state\n",
    "                nonlocal score\n",
    "                nonlocal ax\n",
    "                if state not in π:\n",
    "                    if display: print(\"State not in policy : {}\".format(state))\n",
    "                else:\n",
    "                    action = π[state]\n",
    "                state = self.T(state,action)\n",
    "                score += self.R(state)\n",
    "                if self.arm_nbr==1:\n",
    "                    α1,x1,x2 = state\n",
    "                    α1 = 2*pi*α1/float(self.α_res)\n",
    "                    X = [0, self.arm_length*cos(α1)]\n",
    "                    Y = [0, self.arm_length*sin(α1)]\n",
    "                elif self.arm_nbr==2:\n",
    "                    α1,α2,x1,x2 = state\n",
    "                    α1 = 2*pi*α1/float(self.α_res)\n",
    "                    α2 = 2*pi*(α2/float(self.α_res)-0.5)\n",
    "                    X = [0, self.arm_length*cos(α1), self.arm_length*(cos(α1)+cos(α1+α2))]\n",
    "                    Y = [0, self.arm_length*sin(α1), self.arm_length*(sin(α1)+sin(α1+α2))]\n",
    "                elif self.arm_nbr==3:\n",
    "                    α1,α2,α3,x1,x2 = state\n",
    "                    α1 = 2*pi*α1/float(self.α_res)\n",
    "                    α2 = 2*pi*(α2/float(self.α_res)-0.5)\n",
    "                    α3 = 2*pi*(α3/float(self.α_res)-0.5)\n",
    "                    X = [0, self.arm_length*cos(α1), self.arm_length*(cos(α1)+cos(α1+α2)), self.arm_length*(cos(α1)+cos(α1+α2)+cos(α1+α2+α3))]\n",
    "                    Y = [0, self.arm_length*sin(α1), self.arm_length*(sin(α1)+sin(α1+α2)), self.arm_length*(sin(α1)+sin(α1+α2)+sin(α1+α2+α3))]\n",
    "                arm.set_data(X, Y)\n",
    "                target.set_data([x1],[x2])\n",
    "                ax.set_title(\"Score : {:0.2f}\".format(score))\n",
    "                return (arm,)\n",
    "            anim = animation.FuncAnimation(fig, animate, init_func=init, frames=nbr_turns, interval=100, blit=True)\n",
    "            HTML(anim.to_jshtml())\n",
    "            self.respawn_target = respawn_target_backup\n",
    "            return score, anim\n",
    "        else:\n",
    "            for _ in range(nbr_turns):\n",
    "                if state not in π:\n",
    "                    if display: print(\"State not in policy\")\n",
    "                else:\n",
    "                    action = π[state]\n",
    "                state = self.T(state,action)\n",
    "                score += self.R(state)\n",
    "            self.respawn_target = respawn_target_backup\n",
    "        return score\n",
    "\n",
    "    def performance(self, π, nbr_runs=200, nbr_turns=0, respawn_target=True):\n",
    "        scores = []\n",
    "        for run in tqdm(range(nbr_runs)):\n",
    "            scores.append(self.play(π, nbr_turns, display=False, respawn_target=respawn_target))\n",
    "        return min(scores) , sum(scores)/len(scores) , max(scores)"
   ]
  },
  {
   "cell_type": "code",
   "execution_count": 14,
   "metadata": {},
   "outputs": [],
   "source": [
    "from random import choice, random\n",
    "import numpy as np\n",
    "\n",
    "from tqdm import tqdm as tqdm_base\n",
    "def tqdm(*args, **kwargs):\n",
    "    if hasattr(tqdm_base, '_instances'):\n",
    "        for instance in list(tqdm_base._instances):\n",
    "            tqdm_base._decr_instances(instance)\n",
    "    return tqdm_base(*args, **kwargs)\n",
    "\n",
    "def policyDistance(π1,π2):\n",
    "    return np.linalg.norm(np.array(list(π1.values()))-np.array(list(π2.values())))\n",
    "\n",
    "\n",
    "\n",
    "\n",
    "#%% region[red] VALUE ITERATION\n",
    "def valueIteration(mdp, ε, γ, max_iter=1000, record=True, verbose=True):\n",
    "    rec = []\n",
    "    itr = 0\n",
    "    Us = {state: 0 for state in mdp.states()}\n",
    "    π = mdp.randomPolicy()\n",
    "    Δ = 2*ε\n",
    "    if record: rec.append((mdp.performance(π), 0))\n",
    "    while Δ > ε and itr<max_iter:\n",
    "        print(\"Iteration #{}\".format(itr))\n",
    "        Δ = 0\n",
    "        π_temp = π.copy()\n",
    "        for state in tqdm(mdp.states()):\n",
    "            U_temp = Us[state]\n",
    "            U_max = 0\n",
    "            for action in mdp.actions(state):\n",
    "                Ts = mdp.Ts(state, action)\n",
    "                U_max_temps = sum([Ts[state_t]*(mdp.R(state_t)+γ*Us[state_t]) for state_t in Ts.keys()])\n",
    "                if U_max_temps > U_max:\n",
    "                    U_max = U_max_temps\n",
    "                    π[state] = action\n",
    "            Δ = max(Δ, abs(U_temp-U_max))\n",
    "            Us[state] = U_max\n",
    "        if record: rec.append((mdp.performance(π), policyDistance(π,π_temp)))\n",
    "        if verbose: print(\"Δ = {}\\nperf = {}\".format(Δ,mdp.performance(π)))\n",
    "        itr +=1\n",
    "    return π, rec\n",
    "#endregion\n",
    "\n",
    "\n",
    "\n",
    "\n",
    "#%% region[blue] POLICY ITERATION\n",
    "def policyIteration(mdp, γ, eval_iter, max_iter, record=True, verbose=True):\n",
    "    rec = []\n",
    "    Us = {state: 0 for state in mdp.states()}\n",
    "    π = {state: choice(mdp.actions(state)) for state in mdp.states()}\n",
    "    π = mdp.randomPolicy()\n",
    "    if record: rec.append((mdp.performance(π), 0))\n",
    "    for itr in range(max_iter):\n",
    "        if verbose: print(\"Iteration #{}\".format(itr))\n",
    "        Us = policyEvaluation(mdp, γ, Us, π, eval_iter, verbose)\n",
    "        π_temp = π.copy()\n",
    "        π = policyImprovement(mdp, γ, Us, π)\n",
    "        if record: rec.append((mdp.performance(π), policyDistance(π,π_temp)))\n",
    "        if verbose: print(\"perf = {}\".format(mdp.performance(π)))\n",
    "        if (π_temp==π):\n",
    "            break\n",
    "    return π, rec\n",
    "\n",
    "def policyEvaluation(mdp, γ, Us, π, eval_iter, verbose=True):\n",
    "    for _ in tqdm(range(eval_iter)):\n",
    "        for state in mdp.states():\n",
    "            action = π[state]\n",
    "            Ts = mdp.Ts(state, action)\n",
    "            Us[state] = sum([Ts[state_t]*(mdp.R(state_t)+γ*Us[state_t]) for state_t in Ts.keys()])\n",
    "    return Us\n",
    "\n",
    "def policyImprovement(mdp, γ, Us, π):\n",
    "    for state in tqdm(mdp.states()):\n",
    "        π_temp = π.copy()\n",
    "        U_max = 0\n",
    "        for action in mdp.actions(state):\n",
    "            Ts = mdp.Ts(state, action)\n",
    "            U_max_temps = sum([Ts[state_t]*(mdp.R(state_t)+γ*Us[state_t]) for state_t in Ts.keys()])\n",
    "            if U_max_temps > U_max:\n",
    "                U_max = U_max_temps\n",
    "                π[state] = action\n",
    "    return π\n",
    "#endregion\n",
    "\n",
    "\n",
    "\n",
    "\n",
    "# %% region[green] Q LEARNING\n",
    "def Qlearning(mdp, γ, α, qpolicy, qpolicy_args={}, qinit=0, nbr_turns=100, nbr_episode=1000, rec_period=100, record=True, verbose=True):\n",
    "    rec = []\n",
    "    Qs = {(state,action):qinit for state in mdp.states() for action in mdp.actions(state)}\n",
    "    π = mdp.randomPolicy()\n",
    "    if record: rec.append((mdp.performance(π), 0))\n",
    "    for episode in tqdm(range(1,nbr_episode+1)):\n",
    "        π_temp = π\n",
    "        for state in mdp.startingStates():\n",
    "            for turn in range(nbr_turns):\n",
    "                action = qpolicy(mdp, Qs, state, **qpolicy_args)\n",
    "                # Q_temp = Qs[(state,action)]\n",
    "                Ts = mdp.Ts(state,action)\n",
    "                rng = random()\n",
    "                p_accumul = 0\n",
    "                for next_state, p in Ts.items():\n",
    "                    p_accumul += p\n",
    "                    if rng <= p_accumul:\n",
    "                        break\n",
    "                R = mdp.R(next_state)\n",
    "                Qs[(state,action)] += α * (R + γ*max([Qs[(next_state,action_t)] for action_t in mdp.actions(next_state)]) - Qs[(state,action)])\n",
    "                state = next_state\n",
    "        π = {state:qpolicy(mdp, Qs, state, **qpolicy_args) for state in mdp.states()}\n",
    "        if record and episode%rec_period==0: rec.append((mdp.performance(π,nbr_runs=120), policyDistance(π,π_temp)))\n",
    "        if verbose: print(\"perf = {}\".format(mdp.performance(π)))\n",
    "    return π, rec\n",
    "\n",
    "def εGreedy(mdp, Qs, state, epsilon):\n",
    "    rng = random()\n",
    "    if rng>epsilon:\n",
    "        Q_max = -99999999\n",
    "        for act in mdp.actions(state):\n",
    "            Q_temp = Qs[(state,act)]\n",
    "            if Q_temp>Q_max:\n",
    "                Q_max = Q_temp\n",
    "                action = act\n",
    "    else:\n",
    "        action = choice(mdp.actions(state))\n",
    "    return action\n",
    "\n",
    "def εpRandom(mdp, Qs, state, epsilon=0.2):\n",
    "    rng = random()\n",
    "    εp = epsilon/float(len(mdp.actions(state)))\n",
    "    Q_sum = sum([Qs[(state,act)] for act in mdp.actions(state)]) + 0.00001\n",
    "    ps = {act:εp+(1-epsilon)*(Qs[(state,act)]+0.00001/float(len(mdp.actions(state))))/Q_sum for act in mdp.actions(state)}\n",
    "    rng = random()\n",
    "    p_accumul = 0\n",
    "    for action, p in ps.items():\n",
    "        p_accumul += p\n",
    "        if rng <= p_accumul:\n",
    "            break\n",
    "    return action\n",
    "\n",
    "def εβpRandom(mdp, Qs, state, epsilon=0.1, beta=2):\n",
    "    rng = random()\n",
    "    εp = epsilon/float(len(mdp.actions(state)))\n",
    "    Q_sum = sum([Qs[(state,act)]**beta for act in mdp.actions(state)]) + 0.00001\n",
    "    ps = {act:εp+(1-epsilon)*(Qs[(state,act)]**beta+0.00001/float(len(mdp.actions(state))))/Q_sum for act in mdp.actions(state)}\n",
    "    rng = random()\n",
    "    p_accumul = 0\n",
    "    for action, p in ps.items():\n",
    "        p_accumul += p\n",
    "        if rng <= p_accumul:\n",
    "            break\n",
    "    return action"
   ]
  },
  {
   "cell_type": "code",
   "execution_count": 64,
   "metadata": {},
   "outputs": [],
   "source": [
    "def analysis(records):\n",
    "    plotArgs = {'γ=0.50':{'dashes':[2,1]}, 'γ=0.90':{'dashes':[4,1]}, 'γ=0.99':{'dashes':[2,0]}, 'default':{'dashes':[0.5,0]}}\n",
    "    plotArgs = {'ε=0.00':{'alpha':1}, 'ε=0.25':{'alpha':0.8}, 'ε=0.50':{'alpha':0.6}, 'ε=0.75':{'alpha':0.4}, 'ε=1.00':{'alpha':0.2}, 'default':{'dashes':[0.5,0]}}\n",
    "    plotArgs = {'α=0.01':{'alpha':1}, 'α=0.04':{'alpha':0.8}, 'α=0.10':{'alpha':0.6}, 'α=0.25':{'alpha':0.4}, 'α=0.50':{'alpha':0.2}, 'α=0.90':{'alpha':0.1}, 'default':{'dashes':[0.5,0]}}\n",
    "    plotArgs = {'Optimistic init':{'dashes':[2,0]}, 'ε-Greedy':{'dashes':[5,1]}, 'εp-Random':{'dashes':[3,1]}, 'εβp-Random':{'dashes':[1,1]}, 'default':{'dashes':[0.5,0]}}\n",
    "    for label,rec in records.items():\n",
    "        perfs, dists = zip(*rec)\n",
    "        perfs = perfs[:50]\n",
    "        dists = dists[:50]\n",
    "        plt.figure(1)\n",
    "        plt.plot(range(len(perfs)), [entry[1] for entry in perfs], color=\"IndianRed\", linewidth=3, label=label, **plotArgs.get(label, plotArgs['default']))\n",
    "        # plt.fill_between(range(len(perfs)), [entry[0] for entry in perfs], [entry[2] for entry in perfs], color=\"IndianRed\", alpha=0.15)\n",
    "        plt.xlabel(\"Iteration\")\n",
    "        plt.ylabel(\"Score\")\n",
    "        plt.legend()\n",
    "        plt.figure(2)\n",
    "        plt.plot(range(1,len(dists)), dists[1:], color=\"SteelBlue\", linewidth=3, label=label, **plotArgs.get(label, plotArgs['default']))\n",
    "        plt.xlabel(\"Iteration\")\n",
    "        plt.ylabel(\"Policy change\")\n",
    "        plt.legend()\n",
    "    plt.show()"
   ]
  },
  {
   "cell_type": "code",
   "execution_count": 80,
   "metadata": {},
   "outputs": [
    {
     "name": "stderr",
     "output_type": "stream",
     "text": [
      "100%|██████████| 200/200 [00:00<00:00, 2687.85it/s]\n"
     ]
    },
    {
     "name": "stdout",
     "output_type": "stream",
     "text": [
      "Iteration #0\n"
     ]
    },
    {
     "name": "stderr",
     "output_type": "stream",
     "text": [
      "100%|██████████| 360000/360000 [00:04<00:00, 72599.28it/s]\n",
      "100%|██████████| 200/200 [00:00<00:00, 2207.48it/s]\n",
      "100%|██████████| 200/200 [00:00<00:00, 2458.22it/s]\n"
     ]
    },
    {
     "name": "stdout",
     "output_type": "stream",
     "text": [
      "Δ = 40.0\n",
      "perf = (0.0, 40.4, 200.0)\n",
      "Iteration #1\n"
     ]
    },
    {
     "name": "stderr",
     "output_type": "stream",
     "text": [
      "100%|██████████| 360000/360000 [00:04<00:00, 86461.70it/s]\n",
      "100%|██████████| 200/200 [00:00<00:00, 1653.53it/s]\n",
      "100%|██████████| 200/200 [00:00<00:00, 1734.93it/s]\n"
     ]
    },
    {
     "name": "stdout",
     "output_type": "stream",
     "text": [
      "Δ = 20.0\n",
      "perf = (100.0, 164.2, 280.0)\n",
      "Iteration #2\n"
     ]
    },
    {
     "name": "stderr",
     "output_type": "stream",
     "text": [
      "100%|██████████| 360000/360000 [00:04<00:00, 84118.31it/s]\n",
      "100%|██████████| 200/200 [00:00<00:00, 901.56it/s]\n",
      "100%|██████████| 200/200 [00:00<00:00, 1743.50it/s]\n"
     ]
    },
    {
     "name": "stdout",
     "output_type": "stream",
     "text": [
      "Δ = 9.98046875\n",
      "perf = (100.0, 175.1, 300.0)\n",
      "Iteration #3\n"
     ]
    },
    {
     "name": "stderr",
     "output_type": "stream",
     "text": [
      "100%|██████████| 360000/360000 [00:04<00:00, 87940.85it/s]\n",
      "100%|██████████| 200/200 [00:00<00:00, 1578.03it/s]\n",
      "100%|██████████| 200/200 [00:00<00:00, 1760.06it/s]\n"
     ]
    },
    {
     "name": "stdout",
     "output_type": "stream",
     "text": [
      "Δ = 4.990234375\n",
      "perf = (100.0, 180.3, 280.0)\n",
      "Iteration #4\n"
     ]
    },
    {
     "name": "stderr",
     "output_type": "stream",
     "text": [
      "100%|██████████| 360000/360000 [00:04<00:00, 86004.77it/s]\n",
      "100%|██████████| 200/200 [00:00<00:00, 1722.72it/s]\n",
      "100%|██████████| 200/200 [00:00<00:00, 1589.31it/s]\n"
     ]
    },
    {
     "name": "stdout",
     "output_type": "stream",
     "text": [
      "Δ = 2.4951171875\n",
      "perf = (120.0, 190.2, 320.0)\n",
      "Iteration #5\n"
     ]
    },
    {
     "name": "stderr",
     "output_type": "stream",
     "text": [
      "100%|██████████| 360000/360000 [00:04<00:00, 82803.00it/s]\n",
      "100%|██████████| 200/200 [00:00<00:00, 1678.25it/s]\n",
      "100%|██████████| 200/200 [00:00<00:00, 1826.53it/s]\n"
     ]
    },
    {
     "name": "stdout",
     "output_type": "stream",
     "text": [
      "Δ = 1.24755859375\n",
      "perf = (120.0, 190.6, 300.0)\n",
      "Iteration #6\n"
     ]
    },
    {
     "name": "stderr",
     "output_type": "stream",
     "text": [
      "100%|██████████| 360000/360000 [00:09<00:00, 39718.46it/s]\n",
      "100%|██████████| 200/200 [00:00<00:00, 593.88it/s]\n",
      "100%|██████████| 200/200 [00:00<00:00, 570.50it/s]\n"
     ]
    },
    {
     "name": "stdout",
     "output_type": "stream",
     "text": [
      "Δ = 0.623779296875\n",
      "perf = (120.0, 198.3, 300.0)\n",
      "Iteration #7\n"
     ]
    },
    {
     "name": "stderr",
     "output_type": "stream",
     "text": [
      "100%|██████████| 360000/360000 [00:12<00:00, 29577.73it/s]\n",
      "100%|██████████| 200/200 [00:00<00:00, 419.88it/s]\n",
      "100%|██████████| 200/200 [00:00<00:00, 769.22it/s]\n"
     ]
    },
    {
     "name": "stdout",
     "output_type": "stream",
     "text": [
      "Δ = 0.3118896484375\n",
      "perf = (120.0, 202.5, 300.0)\n",
      "Iteration #8\n"
     ]
    },
    {
     "name": "stderr",
     "output_type": "stream",
     "text": [
      "100%|██████████| 360000/360000 [00:09<00:00, 36010.78it/s]\n",
      "100%|██████████| 200/200 [00:00<00:00, 803.75it/s]\n",
      "100%|██████████| 200/200 [00:00<00:00, 671.44it/s]\n"
     ]
    },
    {
     "name": "stdout",
     "output_type": "stream",
     "text": [
      "Δ = 0.15594482421875\n",
      "perf = (120.0, 210.7, 360.0)\n",
      "Iteration #9\n"
     ]
    },
    {
     "name": "stderr",
     "output_type": "stream",
     "text": [
      "100%|██████████| 360000/360000 [00:11<00:00, 31543.95it/s]\n",
      "100%|██████████| 200/200 [00:00<00:00, 847.15it/s]\n",
      "100%|██████████| 200/200 [00:00<00:00, 500.25it/s]\n"
     ]
    },
    {
     "name": "stdout",
     "output_type": "stream",
     "text": [
      "Δ = 0.077972412109375\n",
      "perf = (120.0, 213.2, 340.0)\n",
      "Iteration #10\n"
     ]
    },
    {
     "name": "stderr",
     "output_type": "stream",
     "text": [
      "100%|██████████| 360000/360000 [00:10<00:00, 32789.51it/s]\n",
      "100%|██████████| 200/200 [00:00<00:00, 530.87it/s]\n",
      "100%|██████████| 200/200 [00:00<00:00, 597.33it/s]\n"
     ]
    },
    {
     "name": "stdout",
     "output_type": "stream",
     "text": [
      "Δ = 0.0389862060546875\n",
      "perf = (140.0, 214.1, 320.0)\n",
      "Iteration #11\n"
     ]
    },
    {
     "name": "stderr",
     "output_type": "stream",
     "text": [
      "100%|██████████| 360000/360000 [00:11<00:00, 32013.02it/s]\n",
      "100%|██████████| 200/200 [00:00<00:00, 804.95it/s]\n",
      "100%|██████████| 200/200 [00:00<00:00, 630.50it/s]\n"
     ]
    },
    {
     "name": "stdout",
     "output_type": "stream",
     "text": [
      "Δ = 0.01949310302734375\n",
      "perf = (140.0, 221.9, 340.0)\n",
      "Iteration #12\n"
     ]
    },
    {
     "name": "stderr",
     "output_type": "stream",
     "text": [
      "100%|██████████| 360000/360000 [00:11<00:00, 31720.77it/s]\n",
      "100%|██████████| 200/200 [00:00<00:00, 842.23it/s]\n",
      "100%|██████████| 200/200 [00:00<00:00, 574.81it/s]\n"
     ]
    },
    {
     "name": "stdout",
     "output_type": "stream",
     "text": [
      "Δ = 0.009746551513671875\n",
      "perf = (140.0, 226.3, 360.0)\n",
      "Iteration #13\n"
     ]
    },
    {
     "name": "stderr",
     "output_type": "stream",
     "text": [
      "100%|██████████| 360000/360000 [00:10<00:00, 34149.02it/s]\n",
      "100%|██████████| 200/200 [00:00<00:00, 800.08it/s]\n",
      "100%|██████████| 200/200 [00:00<00:00, 1662.55it/s]\n"
     ]
    },
    {
     "name": "stdout",
     "output_type": "stream",
     "text": [
      "Δ = 0.0048732757568359375\n",
      "perf = (160.0, 232.1, 340.0)\n",
      "Iteration #14\n"
     ]
    },
    {
     "name": "stderr",
     "output_type": "stream",
     "text": [
      "100%|██████████| 360000/360000 [00:03<00:00, 91508.49it/s]\n",
      "100%|██████████| 200/200 [00:00<00:00, 1713.27it/s]\n",
      "100%|██████████| 200/200 [00:00<00:00, 1804.73it/s]\n"
     ]
    },
    {
     "name": "stdout",
     "output_type": "stream",
     "text": [
      "Δ = 0.0024366378784179688\n",
      "perf = (160.0, 235.4, 320.0)\n",
      "Iteration #15\n"
     ]
    },
    {
     "name": "stderr",
     "output_type": "stream",
     "text": [
      "100%|██████████| 360000/360000 [00:03<00:00, 90737.40it/s]\n",
      "100%|██████████| 200/200 [00:00<00:00, 1847.07it/s]\n",
      "100%|██████████| 200/200 [00:00<00:00, 1707.63it/s]\n"
     ]
    },
    {
     "name": "stdout",
     "output_type": "stream",
     "text": [
      "Δ = 0.0012183189392089844\n",
      "perf = (160.0, 233.3, 340.0)\n",
      "Iteration #16\n"
     ]
    },
    {
     "name": "stderr",
     "output_type": "stream",
     "text": [
      "100%|██████████| 360000/360000 [00:04<00:00, 88138.84it/s]\n",
      "100%|██████████| 200/200 [00:00<00:00, 1749.65it/s]\n",
      "100%|██████████| 200/200 [00:00<00:00, 1929.87it/s]\n"
     ]
    },
    {
     "name": "stdout",
     "output_type": "stream",
     "text": [
      "Δ = 0.0006091594696044922\n",
      "perf = (140.0, 236.7, 360.0)\n"
     ]
    },
    {
     "name": "stderr",
     "output_type": "stream",
     "text": [
      "100%|██████████| 200/200 [00:00<00:00, 2418.99it/s]\n"
     ]
    },
    {
     "name": "stdout",
     "output_type": "stream",
     "text": [
      "Iteration #0\n"
     ]
    },
    {
     "name": "stderr",
     "output_type": "stream",
     "text": [
      "100%|██████████| 360000/360000 [00:04<00:00, 79022.68it/s]\n",
      "100%|██████████| 200/200 [00:00<00:00, 1886.84it/s]\n",
      "100%|██████████| 200/200 [00:00<00:00, 2340.64it/s]\n"
     ]
    },
    {
     "name": "stdout",
     "output_type": "stream",
     "text": [
      "Δ = 199.99941873571677\n",
      "perf = (0.0, 44.8, 200.0)\n",
      "Iteration #1\n"
     ]
    },
    {
     "name": "stderr",
     "output_type": "stream",
     "text": [
      "100%|██████████| 360000/360000 [00:03<00:00, 91563.36it/s]\n",
      "100%|██████████| 200/200 [00:00<00:00, 1843.23it/s]\n",
      "100%|██████████| 200/200 [00:00<00:00, 1749.85it/s]\n"
     ]
    },
    {
     "name": "stdout",
     "output_type": "stream",
     "text": [
      "Δ = 179.99941873571677\n",
      "perf = (100.0, 162.5, 300.0)\n",
      "Iteration #2\n"
     ]
    },
    {
     "name": "stderr",
     "output_type": "stream",
     "text": [
      "100%|██████████| 360000/360000 [00:03<00:00, 92902.61it/s]\n",
      "100%|██████████| 200/200 [00:00<00:00, 988.63it/s]\n",
      "100%|██████████| 200/200 [00:00<00:00, 1579.70it/s]\n"
     ]
    },
    {
     "name": "stdout",
     "output_type": "stream",
     "text": [
      "Δ = 66.34062\n",
      "perf = (100.0, 170.3, 280.0)\n",
      "Iteration #3\n"
     ]
    },
    {
     "name": "stderr",
     "output_type": "stream",
     "text": [
      "100%|██████████| 360000/360000 [00:04<00:00, 85295.74it/s]\n",
      "100%|██████████| 200/200 [00:00<00:00, 1799.25it/s]\n",
      "100%|██████████| 200/200 [00:00<00:00, 1711.84it/s]\n"
     ]
    },
    {
     "name": "stdout",
     "output_type": "stream",
     "text": [
      "Δ = 59.706558\n",
      "perf = (100.0, 172.6, 260.0)\n",
      "Iteration #4\n"
     ]
    },
    {
     "name": "stderr",
     "output_type": "stream",
     "text": [
      "100%|██████████| 360000/360000 [00:04<00:00, 86294.75it/s]\n",
      "100%|██████████| 200/200 [00:00<00:00, 1657.59it/s]\n",
      "100%|██████████| 200/200 [00:00<00:00, 1708.78it/s]\n"
     ]
    },
    {
     "name": "stdout",
     "output_type": "stream",
     "text": [
      "Δ = 53.73590220000001\n",
      "perf = (100.0, 180.7, 260.0)\n",
      "Iteration #5\n"
     ]
    },
    {
     "name": "stderr",
     "output_type": "stream",
     "text": [
      "100%|██████████| 360000/360000 [00:04<00:00, 87530.93it/s]\n",
      "100%|██████████| 200/200 [00:00<00:00, 1943.67it/s]\n",
      "100%|██████████| 200/200 [00:00<00:00, 1567.25it/s]\n"
     ]
    },
    {
     "name": "stdout",
     "output_type": "stream",
     "text": [
      "Δ = 48.36231198000001\n",
      "perf = (120.0, 185.2, 280.0)\n",
      "Iteration #6\n"
     ]
    },
    {
     "name": "stderr",
     "output_type": "stream",
     "text": [
      "100%|██████████| 360000/360000 [00:03<00:00, 90511.04it/s]\n",
      "100%|██████████| 200/200 [00:00<00:00, 1846.86it/s]\n",
      "100%|██████████| 200/200 [00:00<00:00, 1810.60it/s]\n"
     ]
    },
    {
     "name": "stdout",
     "output_type": "stream",
     "text": [
      "Δ = 43.52608078200001\n",
      "perf = (100.0, 193.9, 300.0)\n",
      "Iteration #7\n"
     ]
    },
    {
     "name": "stderr",
     "output_type": "stream",
     "text": [
      "100%|██████████| 360000/360000 [00:04<00:00, 87978.65it/s]\n",
      "100%|██████████| 200/200 [00:00<00:00, 1833.57it/s]\n",
      "100%|██████████| 200/200 [00:00<00:00, 1542.28it/s]\n"
     ]
    },
    {
     "name": "stdout",
     "output_type": "stream",
     "text": [
      "Δ = 39.173472703800016\n",
      "perf = (120.0, 199.1, 300.0)\n",
      "Iteration #8\n"
     ]
    },
    {
     "name": "stderr",
     "output_type": "stream",
     "text": [
      "100%|██████████| 360000/360000 [00:04<00:00, 85821.15it/s]\n",
      "100%|██████████| 200/200 [00:00<00:00, 1938.78it/s]\n",
      "100%|██████████| 200/200 [00:00<00:00, 1828.82it/s]\n"
     ]
    },
    {
     "name": "stdout",
     "output_type": "stream",
     "text": [
      "Δ = 35.25612543342001\n",
      "perf = (120.0, 203.4, 340.0)\n",
      "Iteration #9\n"
     ]
    },
    {
     "name": "stderr",
     "output_type": "stream",
     "text": [
      "100%|██████████| 360000/360000 [00:04<00:00, 86884.58it/s]\n",
      "100%|██████████| 200/200 [00:00<00:00, 1839.49it/s]\n",
      "100%|██████████| 200/200 [00:00<00:00, 1712.01it/s]\n"
     ]
    },
    {
     "name": "stdout",
     "output_type": "stream",
     "text": [
      "Δ = 31.155403387140282\n",
      "perf = (100.0, 208.4, 300.0)\n",
      "Iteration #10\n"
     ]
    },
    {
     "name": "stderr",
     "output_type": "stream",
     "text": [
      "100%|██████████| 360000/360000 [00:04<00:00, 84805.43it/s]\n",
      "100%|██████████| 200/200 [00:00<00:00, 1730.00it/s]\n",
      "100%|██████████| 200/200 [00:00<00:00, 1846.33it/s]\n"
     ]
    },
    {
     "name": "stdout",
     "output_type": "stream",
     "text": [
      "Δ = 26.01081961166642\n",
      "perf = (140.0, 213.7, 380.0)\n",
      "Iteration #11\n"
     ]
    },
    {
     "name": "stderr",
     "output_type": "stream",
     "text": [
      "100%|██████████| 360000/360000 [00:04<00:00, 89133.68it/s]\n",
      "100%|██████████| 200/200 [00:00<00:00, 1762.39it/s]\n",
      "100%|██████████| 200/200 [00:00<00:00, 1994.86it/s]\n"
     ]
    },
    {
     "name": "stdout",
     "output_type": "stream",
     "text": [
      "Δ = 22.33364733205953\n",
      "perf = (140.0, 215.7, 340.0)\n",
      "Iteration #12\n"
     ]
    },
    {
     "name": "stderr",
     "output_type": "stream",
     "text": [
      "100%|██████████| 360000/360000 [00:04<00:00, 83978.76it/s]\n",
      "100%|██████████| 200/200 [00:00<00:00, 1690.82it/s]\n",
      "100%|██████████| 200/200 [00:00<00:00, 1666.76it/s]\n"
     ]
    },
    {
     "name": "stdout",
     "output_type": "stream",
     "text": [
      "Δ = 19.425503519163186\n",
      "perf = (120.0, 217.3, 320.0)\n",
      "Iteration #13\n"
     ]
    },
    {
     "name": "stderr",
     "output_type": "stream",
     "text": [
      "100%|██████████| 360000/360000 [00:04<00:00, 82751.13it/s]\n",
      "100%|██████████| 200/200 [00:00<00:00, 1782.02it/s]\n",
      "100%|██████████| 200/200 [00:00<00:00, 1644.04it/s]\n"
     ]
    },
    {
     "name": "stdout",
     "output_type": "stream",
     "text": [
      "Δ = 17.48295316724687\n",
      "perf = (140.0, 223.2, 320.0)\n",
      "Iteration #14\n"
     ]
    },
    {
     "name": "stderr",
     "output_type": "stream",
     "text": [
      "100%|██████████| 360000/360000 [00:04<00:00, 88826.85it/s]\n",
      "100%|██████████| 200/200 [00:00<00:00, 1905.87it/s]\n",
      "100%|██████████| 200/200 [00:00<00:00, 1704.93it/s]\n"
     ]
    },
    {
     "name": "stdout",
     "output_type": "stream",
     "text": [
      "Δ = 15.73465785052218\n",
      "perf = (160.0, 223.6, 380.0)\n",
      "Iteration #15\n"
     ]
    },
    {
     "name": "stderr",
     "output_type": "stream",
     "text": [
      "100%|██████████| 360000/360000 [00:04<00:00, 88293.93it/s]\n",
      "100%|██████████| 200/200 [00:00<00:00, 1681.82it/s]\n",
      "100%|██████████| 200/200 [00:00<00:00, 1320.10it/s]\n"
     ]
    },
    {
     "name": "stdout",
     "output_type": "stream",
     "text": [
      "Δ = 13.379130954136349\n",
      "perf = (140.0, 235.9, 340.0)\n",
      "Iteration #16\n"
     ]
    },
    {
     "name": "stderr",
     "output_type": "stream",
     "text": [
      "100%|██████████| 360000/360000 [00:04<00:00, 84722.03it/s]\n",
      "100%|██████████| 200/200 [00:00<00:00, 1935.90it/s]\n",
      "100%|██████████| 200/200 [00:00<00:00, 1713.46it/s]\n"
     ]
    },
    {
     "name": "stdout",
     "output_type": "stream",
     "text": [
      "Δ = 11.470565573030665\n",
      "perf = (140.0, 232.7, 360.0)\n",
      "Iteration #17\n"
     ]
    },
    {
     "name": "stderr",
     "output_type": "stream",
     "text": [
      "100%|██████████| 360000/360000 [00:04<00:00, 85530.99it/s]\n",
      "100%|██████████| 200/200 [00:00<00:00, 1785.56it/s]\n",
      "100%|██████████| 200/200 [00:00<00:00, 1933.53it/s]\n"
     ]
    },
    {
     "name": "stdout",
     "output_type": "stream",
     "text": [
      "Δ = 10.3235090157276\n",
      "perf = (160.0, 234.0, 340.0)\n",
      "Iteration #18\n"
     ]
    },
    {
     "name": "stderr",
     "output_type": "stream",
     "text": [
      "100%|██████████| 360000/360000 [00:03<00:00, 90147.55it/s]\n",
      "100%|██████████| 200/200 [00:00<00:00, 1808.05it/s]\n",
      "100%|██████████| 200/200 [00:00<00:00, 2107.97it/s]\n"
     ]
    },
    {
     "name": "stdout",
     "output_type": "stream",
     "text": [
      "Δ = 9.291158114154841\n",
      "perf = (160.0, 236.0, 340.0)\n",
      "Iteration #19\n"
     ]
    },
    {
     "name": "stderr",
     "output_type": "stream",
     "text": [
      "100%|██████████| 360000/360000 [00:04<00:00, 85608.67it/s]\n",
      "100%|██████████| 200/200 [00:00<00:00, 1918.71it/s]\n",
      "100%|██████████| 200/200 [00:00<00:00, 1945.71it/s]\n"
     ]
    },
    {
     "name": "stdout",
     "output_type": "stream",
     "text": [
      "Δ = 8.362042302739358\n",
      "perf = (160.0, 243.4, 340.0)\n",
      "Iteration #20\n"
     ]
    },
    {
     "name": "stderr",
     "output_type": "stream",
     "text": [
      "100%|██████████| 360000/360000 [00:04<00:00, 84137.74it/s]\n",
      "100%|██████████| 200/200 [00:00<00:00, 2133.47it/s]\n",
      "100%|██████████| 200/200 [00:00<00:00, 1870.21it/s]\n"
     ]
    },
    {
     "name": "stdout",
     "output_type": "stream",
     "text": [
      "Δ = 6.865575340599593\n",
      "perf = (140.0, 239.7, 320.0)\n",
      "Iteration #21\n"
     ]
    },
    {
     "name": "stderr",
     "output_type": "stream",
     "text": [
      "100%|██████████| 360000/360000 [00:03<00:00, 91525.85it/s]\n",
      "100%|██████████| 200/200 [00:00<00:00, 1893.62it/s]\n",
      "100%|██████████| 200/200 [00:00<00:00, 1986.52it/s]\n"
     ]
    },
    {
     "name": "stdout",
     "output_type": "stream",
     "text": [
      "Δ = 6.095928838696992\n",
      "perf = (180.0, 242.6, 340.0)\n",
      "Iteration #22\n"
     ]
    },
    {
     "name": "stderr",
     "output_type": "stream",
     "text": [
      "100%|██████████| 360000/360000 [00:03<00:00, 90318.13it/s]\n",
      "100%|██████████| 200/200 [00:00<00:00, 2131.45it/s]\n",
      "100%|██████████| 200/200 [00:00<00:00, 2130.01it/s]\n"
     ]
    },
    {
     "name": "stdout",
     "output_type": "stream",
     "text": [
      "Δ = 5.486335954827293\n",
      "perf = (160.0, 238.4, 320.0)\n",
      "Iteration #23\n"
     ]
    },
    {
     "name": "stderr",
     "output_type": "stream",
     "text": [
      "100%|██████████| 360000/360000 [00:04<00:00, 87226.13it/s]\n",
      "100%|██████████| 200/200 [00:00<00:00, 2082.87it/s]\n",
      "100%|██████████| 200/200 [00:00<00:00, 1691.03it/s]\n"
     ]
    },
    {
     "name": "stdout",
     "output_type": "stream",
     "text": [
      "Δ = 4.619121853233514\n",
      "perf = (160.0, 241.2, 340.0)\n",
      "Iteration #24\n"
     ]
    },
    {
     "name": "stderr",
     "output_type": "stream",
     "text": [
      "100%|██████████| 360000/360000 [00:04<00:00, 89481.71it/s]\n",
      "100%|██████████| 200/200 [00:00<00:00, 1890.20it/s]\n",
      "100%|██████████| 200/200 [00:00<00:00, 1780.52it/s]\n"
     ]
    },
    {
     "name": "stdout",
     "output_type": "stream",
     "text": [
      "Δ = 3.5995850199621824\n",
      "perf = (180.0, 241.2, 340.0)\n",
      "Iteration #25\n"
     ]
    },
    {
     "name": "stderr",
     "output_type": "stream",
     "text": [
      "100%|██████████| 360000/360000 [00:04<00:00, 86355.55it/s]\n",
      "100%|██████████| 200/200 [00:00<00:00, 2034.12it/s]\n",
      "100%|██████████| 200/200 [00:00<00:00, 1725.72it/s]\n"
     ]
    },
    {
     "name": "stdout",
     "output_type": "stream",
     "text": [
      "Δ = 3.151715745564772\n",
      "perf = (180.0, 241.3, 380.0)\n",
      "Iteration #26\n"
     ]
    },
    {
     "name": "stderr",
     "output_type": "stream",
     "text": [
      "100%|██████████| 360000/360000 [00:04<00:00, 84314.82it/s]\n",
      "100%|██████████| 200/200 [00:00<00:00, 1695.70it/s]\n",
      "100%|██████████| 200/200 [00:00<00:00, 1743.52it/s]\n"
     ]
    },
    {
     "name": "stdout",
     "output_type": "stream",
     "text": [
      "Δ = 2.6804499670372133\n",
      "perf = (160.0, 245.9, 340.0)\n",
      "Iteration #27\n"
     ]
    },
    {
     "name": "stderr",
     "output_type": "stream",
     "text": [
      "100%|██████████| 360000/360000 [00:04<00:00, 82535.55it/s]\n",
      "100%|██████████| 200/200 [00:00<00:00, 1665.32it/s]\n",
      "100%|██████████| 200/200 [00:00<00:00, 1897.45it/s]\n"
     ]
    },
    {
     "name": "stdout",
     "output_type": "stream",
     "text": [
      "Δ = 2.3616877315971827\n",
      "perf = (160.0, 247.4, 340.0)\n",
      "Iteration #28\n"
     ]
    },
    {
     "name": "stderr",
     "output_type": "stream",
     "text": [
      "100%|██████████| 360000/360000 [00:04<00:00, 82466.90it/s]\n",
      "100%|██████████| 200/200 [00:00<00:00, 1570.95it/s]\n",
      "100%|██████████| 200/200 [00:00<00:00, 1718.27it/s]\n"
     ]
    },
    {
     "name": "stdout",
     "output_type": "stream",
     "text": [
      "Δ = 1.8610566305985365\n",
      "perf = (180.0, 245.9, 360.0)\n",
      "Iteration #29\n"
     ]
    },
    {
     "name": "stderr",
     "output_type": "stream",
     "text": [
      "100%|██████████| 360000/360000 [00:04<00:00, 86425.11it/s]\n",
      "100%|██████████| 200/200 [00:00<00:00, 1753.89it/s]\n",
      "100%|██████████| 200/200 [00:00<00:00, 1474.82it/s]\n"
     ]
    },
    {
     "name": "stdout",
     "output_type": "stream",
     "text": [
      "Δ = 1.3945529886308368\n",
      "perf = (160.0, 243.1, 400.0)\n",
      "Iteration #30\n"
     ]
    },
    {
     "name": "stderr",
     "output_type": "stream",
     "text": [
      "100%|██████████| 360000/360000 [00:04<00:00, 85235.43it/s]\n",
      "100%|██████████| 200/200 [00:00<00:00, 1881.74it/s]\n",
      "100%|██████████| 200/200 [00:00<00:00, 1755.63it/s]\n"
     ]
    },
    {
     "name": "stdout",
     "output_type": "stream",
     "text": [
      "Δ = 1.2550976897677533\n",
      "perf = (140.0, 244.0, 360.0)\n",
      "Iteration #31\n"
     ]
    },
    {
     "name": "stderr",
     "output_type": "stream",
     "text": [
      "100%|██████████| 360000/360000 [00:04<00:00, 88906.07it/s]\n",
      "100%|██████████| 200/200 [00:00<00:00, 1661.39it/s]\n",
      "100%|██████████| 200/200 [00:00<00:00, 1755.11it/s]\n"
     ]
    },
    {
     "name": "stdout",
     "output_type": "stream",
     "text": [
      "Δ = 0.8901376171397324\n",
      "perf = (160.0, 245.0, 360.0)\n",
      "Iteration #32\n"
     ]
    },
    {
     "name": "stderr",
     "output_type": "stream",
     "text": [
      "100%|██████████| 360000/360000 [00:04<00:00, 87777.06it/s]\n",
      "100%|██████████| 200/200 [00:00<00:00, 1692.82it/s]\n",
      "100%|██████████| 200/200 [00:00<00:00, 1880.73it/s]\n"
     ]
    },
    {
     "name": "stdout",
     "output_type": "stream",
     "text": [
      "Δ = 0.7411226348309601\n",
      "perf = (160.0, 246.1, 360.0)\n",
      "Iteration #33\n"
     ]
    },
    {
     "name": "stderr",
     "output_type": "stream",
     "text": [
      "100%|██████████| 360000/360000 [00:04<00:00, 85254.21it/s]\n",
      "100%|██████████| 200/200 [00:00<00:00, 1662.54it/s]\n",
      "100%|██████████| 200/200 [00:00<00:00, 1686.34it/s]\n"
     ]
    },
    {
     "name": "stdout",
     "output_type": "stream",
     "text": [
      "Δ = 0.5256173615448461\n",
      "perf = (160.0, 248.2, 340.0)\n",
      "Iteration #34\n"
     ]
    },
    {
     "name": "stderr",
     "output_type": "stream",
     "text": [
      "100%|██████████| 360000/360000 [00:04<00:00, 87117.83it/s]\n",
      "100%|██████████| 200/200 [00:00<00:00, 1763.01it/s]\n",
      "100%|██████████| 200/200 [00:00<00:00, 1761.75it/s]\n"
     ]
    },
    {
     "name": "stdout",
     "output_type": "stream",
     "text": [
      "Δ = 0.3831750565661842\n",
      "perf = (180.0, 242.6, 340.0)\n",
      "Iteration #35\n"
     ]
    },
    {
     "name": "stderr",
     "output_type": "stream",
     "text": [
      "100%|██████████| 360000/360000 [00:04<00:00, 85913.29it/s]\n",
      "100%|██████████| 200/200 [00:00<00:00, 1788.47it/s]\n",
      "100%|██████████| 200/200 [00:00<00:00, 1611.66it/s]\n"
     ]
    },
    {
     "name": "stdout",
     "output_type": "stream",
     "text": [
      "Δ = 0.34485755090956616\n",
      "perf = (160.0, 244.2, 360.0)\n",
      "Iteration #36\n"
     ]
    },
    {
     "name": "stderr",
     "output_type": "stream",
     "text": [
      "100%|██████████| 360000/360000 [00:04<00:00, 85208.12it/s]\n",
      "100%|██████████| 200/200 [00:00<00:00, 1669.93it/s]\n",
      "100%|██████████| 200/200 [00:00<00:00, 1670.37it/s]\n"
     ]
    },
    {
     "name": "stdout",
     "output_type": "stream",
     "text": [
      "Δ = 0.25140115461307566\n",
      "perf = (180.0, 245.3, 360.0)\n",
      "Iteration #37\n"
     ]
    },
    {
     "name": "stderr",
     "output_type": "stream",
     "text": [
      "100%|██████████| 360000/360000 [00:04<00:00, 86131.26it/s]\n",
      "100%|██████████| 200/200 [00:00<00:00, 1539.08it/s]\n",
      "100%|██████████| 200/200 [00:00<00:00, 1637.36it/s]\n"
     ]
    },
    {
     "name": "stdout",
     "output_type": "stream",
     "text": [
      "Δ = 0.1832714417129413\n",
      "perf = (160.0, 247.1, 380.0)\n",
      "Iteration #38\n"
     ]
    },
    {
     "name": "stderr",
     "output_type": "stream",
     "text": [
      "100%|██████████| 360000/360000 [00:04<00:00, 83890.20it/s]\n",
      "100%|██████████| 200/200 [00:00<00:00, 1744.15it/s]\n",
      "100%|██████████| 200/200 [00:00<00:00, 1733.69it/s]\n"
     ]
    },
    {
     "name": "stdout",
     "output_type": "stream",
     "text": [
      "Δ = 0.15944807560455843\n",
      "perf = (160.0, 243.0, 360.0)\n",
      "Iteration #39\n"
     ]
    },
    {
     "name": "stderr",
     "output_type": "stream",
     "text": [
      "100%|██████████| 360000/360000 [00:04<00:00, 84756.02it/s]\n",
      "100%|██████████| 200/200 [00:00<00:00, 1826.09it/s]\n",
      "100%|██████████| 200/200 [00:00<00:00, 1813.98it/s]\n"
     ]
    },
    {
     "name": "stdout",
     "output_type": "stream",
     "text": [
      "Δ = 0.14350326804409974\n",
      "perf = (180.0, 244.1, 380.0)\n",
      "Iteration #40\n"
     ]
    },
    {
     "name": "stderr",
     "output_type": "stream",
     "text": [
      "100%|██████████| 360000/360000 [00:04<00:00, 83653.42it/s]\n",
      "100%|██████████| 200/200 [00:00<00:00, 2110.51it/s]\n",
      "100%|██████████| 200/200 [00:00<00:00, 1944.78it/s]\n"
     ]
    },
    {
     "name": "stdout",
     "output_type": "stream",
     "text": [
      "Δ = 0.12915294123970966\n",
      "perf = (140.0, 241.9, 400.0)\n",
      "Iteration #41\n"
     ]
    },
    {
     "name": "stderr",
     "output_type": "stream",
     "text": [
      "100%|██████████| 360000/360000 [00:04<00:00, 88960.31it/s]\n",
      "100%|██████████| 200/200 [00:00<00:00, 1793.38it/s]\n",
      "100%|██████████| 200/200 [00:00<00:00, 1814.26it/s]\n"
     ]
    },
    {
     "name": "stdout",
     "output_type": "stream",
     "text": [
      "Δ = 0.1162376471157529\n",
      "perf = (180.0, 241.5, 320.0)\n",
      "Iteration #42\n"
     ]
    },
    {
     "name": "stderr",
     "output_type": "stream",
     "text": [
      "100%|██████████| 360000/360000 [00:04<00:00, 86331.54it/s]\n",
      "100%|██████████| 200/200 [00:00<00:00, 2111.84it/s]\n",
      "100%|██████████| 200/200 [00:00<00:00, 1826.30it/s]\n"
     ]
    },
    {
     "name": "stdout",
     "output_type": "stream",
     "text": [
      "Δ = 0.10461388240418046\n",
      "perf = (180.0, 240.6, 360.0)\n",
      "Iteration #43\n"
     ]
    },
    {
     "name": "stderr",
     "output_type": "stream",
     "text": [
      "100%|██████████| 360000/360000 [00:03<00:00, 93295.56it/s]\n",
      "100%|██████████| 200/200 [00:00<00:00, 1826.64it/s]\n",
      "100%|██████████| 200/200 [00:00<00:00, 2122.55it/s]\n"
     ]
    },
    {
     "name": "stdout",
     "output_type": "stream",
     "text": [
      "Δ = 0.09415249416376525\n",
      "perf = (180.0, 248.0, 360.0)\n",
      "Iteration #44\n"
     ]
    },
    {
     "name": "stderr",
     "output_type": "stream",
     "text": [
      "100%|██████████| 360000/360000 [00:03<00:00, 92015.97it/s]\n",
      "100%|██████████| 200/200 [00:00<00:00, 1934.20it/s]\n",
      "100%|██████████| 200/200 [00:00<00:00, 1924.96it/s]\n"
     ]
    },
    {
     "name": "stdout",
     "output_type": "stream",
     "text": [
      "Δ = 0.08473724474738731\n",
      "perf = (180.0, 243.7, 320.0)\n",
      "Iteration #45\n"
     ]
    },
    {
     "name": "stderr",
     "output_type": "stream",
     "text": [
      "100%|██████████| 360000/360000 [00:04<00:00, 84587.29it/s]\n",
      "100%|██████████| 200/200 [00:00<00:00, 1946.35it/s]\n",
      "100%|██████████| 200/200 [00:00<00:00, 1886.03it/s]\n"
     ]
    },
    {
     "name": "stdout",
     "output_type": "stream",
     "text": [
      "Δ = 0.07626352027264716\n",
      "perf = (160.0, 246.3, 360.0)\n",
      "Iteration #46\n"
     ]
    },
    {
     "name": "stderr",
     "output_type": "stream",
     "text": [
      "100%|██████████| 360000/360000 [00:04<00:00, 83368.41it/s]\n",
      "100%|██████████| 200/200 [00:00<00:00, 1755.70it/s]\n",
      "100%|██████████| 200/200 [00:00<00:00, 1948.45it/s]\n"
     ]
    },
    {
     "name": "stdout",
     "output_type": "stream",
     "text": [
      "Δ = 0.06863716824538812\n",
      "perf = (180.0, 245.9, 360.0)\n",
      "Iteration #47\n"
     ]
    },
    {
     "name": "stderr",
     "output_type": "stream",
     "text": [
      "100%|██████████| 360000/360000 [00:04<00:00, 85991.95it/s]\n",
      "100%|██████████| 200/200 [00:00<00:00, 1751.77it/s]\n",
      "100%|██████████| 200/200 [00:00<00:00, 1630.22it/s]\n"
     ]
    },
    {
     "name": "stdout",
     "output_type": "stream",
     "text": [
      "Δ = 0.06177345142084789\n",
      "perf = (160.0, 247.9, 400.0)\n",
      "Iteration #48\n"
     ]
    },
    {
     "name": "stderr",
     "output_type": "stream",
     "text": [
      "100%|██████████| 360000/360000 [00:04<00:00, 81588.71it/s]\n",
      "100%|██████████| 200/200 [00:00<00:00, 1773.04it/s]\n",
      "100%|██████████| 200/200 [00:00<00:00, 1530.03it/s]\n"
     ]
    },
    {
     "name": "stdout",
     "output_type": "stream",
     "text": [
      "Δ = 0.05559610627877021\n",
      "perf = (180.0, 242.4, 340.0)\n",
      "Iteration #49\n"
     ]
    },
    {
     "name": "stderr",
     "output_type": "stream",
     "text": [
      "100%|██████████| 360000/360000 [00:10<00:00, 34855.21it/s]\n",
      "100%|██████████| 200/200 [00:00<00:00, 853.47it/s]\n",
      "100%|██████████| 200/200 [00:00<00:00, 894.32it/s]\n"
     ]
    },
    {
     "name": "stdout",
     "output_type": "stream",
     "text": [
      "Δ = 0.05003649565090029\n",
      "perf = (180.0, 243.1, 340.0)\n"
     ]
    },
    {
     "name": "stderr",
     "output_type": "stream",
     "text": [
      "100%|██████████| 200/200 [00:00<00:00, 622.14it/s]\n"
     ]
    },
    {
     "name": "stdout",
     "output_type": "stream",
     "text": [
      "Iteration #0\n"
     ]
    },
    {
     "name": "stderr",
     "output_type": "stream",
     "text": [
      "100%|██████████| 360000/360000 [00:10<00:00, 33796.08it/s]\n",
      "100%|██████████| 200/200 [00:00<00:00, 1092.08it/s]\n",
      "100%|██████████| 200/200 [00:00<00:00, 1183.02it/s]\n"
     ]
    },
    {
     "name": "stdout",
     "output_type": "stream",
     "text": [
      "Δ = 1407.2268252015829\n",
      "perf = (0.0, 43.3, 180.0)\n",
      "Iteration #1\n"
     ]
    },
    {
     "name": "stderr",
     "output_type": "stream",
     "text": [
      "100%|██████████| 360000/360000 [00:09<00:00, 37455.72it/s]\n",
      "100%|██████████| 200/200 [00:00<00:00, 505.99it/s]\n",
      "100%|██████████| 200/200 [00:00<00:00, 872.21it/s]\n"
     ]
    },
    {
     "name": "stdout",
     "output_type": "stream",
     "text": [
      "Δ = 1387.2268252015829\n",
      "perf = (80.0, 144.0, 220.0)\n",
      "Iteration #2\n"
     ]
    },
    {
     "name": "stderr",
     "output_type": "stream",
     "text": [
      "100%|██████████| 360000/360000 [00:09<00:00, 39718.90it/s]\n",
      "100%|██████████| 200/200 [00:00<00:00, 914.44it/s]\n",
      "100%|██████████| 200/200 [00:00<00:00, 853.39it/s]\n"
     ]
    },
    {
     "name": "stdout",
     "output_type": "stream",
     "text": [
      "Δ = 492.68860941932564\n",
      "perf = (100.0, 146.1, 260.0)\n",
      "Iteration #3\n"
     ]
    },
    {
     "name": "stderr",
     "output_type": "stream",
     "text": [
      "100%|██████████| 360000/360000 [00:09<00:00, 38353.17it/s]\n",
      "100%|██████████| 200/200 [00:00<00:00, 853.36it/s]\n",
      "100%|██████████| 200/200 [00:00<00:00, 581.89it/s]\n"
     ]
    },
    {
     "name": "stdout",
     "output_type": "stream",
     "text": [
      "Δ = 158.25211077132053\n",
      "perf = (100.0, 150.8, 240.0)\n",
      "Iteration #4\n"
     ]
    },
    {
     "name": "stderr",
     "output_type": "stream",
     "text": [
      "100%|██████████| 360000/360000 [00:09<00:00, 38406.32it/s]\n",
      "100%|██████████| 200/200 [00:00<00:00, 595.30it/s]\n",
      "100%|██████████| 200/200 [00:00<00:00, 913.98it/s]\n"
     ]
    },
    {
     "name": "stdout",
     "output_type": "stream",
     "text": [
      "Δ = 77.01598471160378\n",
      "perf = (80.0, 158.8, 240.0)\n",
      "Iteration #5\n"
     ]
    },
    {
     "name": "stderr",
     "output_type": "stream",
     "text": [
      "100%|██████████| 360000/360000 [00:13<00:00, 27149.10it/s]\n",
      "100%|██████████| 200/200 [00:00<00:00, 855.17it/s]\n",
      "100%|██████████| 200/200 [00:00<00:00, 341.62it/s]\n"
     ]
    },
    {
     "name": "stdout",
     "output_type": "stream",
     "text": [
      "Δ = 68.96024998017194\n",
      "perf = (80.0, 155.1, 300.0)\n",
      "Iteration #6\n"
     ]
    },
    {
     "name": "stderr",
     "output_type": "stream",
     "text": [
      "100%|██████████| 360000/360000 [00:08<00:00, 42154.72it/s]\n",
      "100%|██████████| 200/200 [00:00<00:00, 1847.30it/s]\n",
      "100%|██████████| 200/200 [00:00<00:00, 1772.27it/s]\n"
     ]
    },
    {
     "name": "stdout",
     "output_type": "stream",
     "text": [
      "Δ = 66.28433101899924\n",
      "perf = (100.0, 154.5, 260.0)\n",
      "Iteration #7\n"
     ]
    },
    {
     "name": "stderr",
     "output_type": "stream",
     "text": [
      "100%|██████████| 360000/360000 [00:04<00:00, 86722.32it/s]\n",
      "100%|██████████| 200/200 [00:00<00:00, 1848.70it/s]\n",
      "100%|██████████| 200/200 [00:00<00:00, 1718.52it/s]\n"
     ]
    },
    {
     "name": "stdout",
     "output_type": "stream",
     "text": [
      "Δ = 64.92470645406257\n",
      "perf = (80.0, 160.5, 260.0)\n",
      "Iteration #8\n"
     ]
    },
    {
     "name": "stderr",
     "output_type": "stream",
     "text": [
      "100%|██████████| 360000/360000 [00:04<00:00, 82217.84it/s]\n",
      "100%|██████████| 200/200 [00:00<00:00, 1623.19it/s]\n",
      "100%|██████████| 200/200 [00:00<00:00, 1765.58it/s]\n"
     ]
    },
    {
     "name": "stdout",
     "output_type": "stream",
     "text": [
      "Δ = 62.99637774767041\n",
      "perf = (100.0, 158.9, 220.0)\n",
      "Iteration #9\n"
     ]
    },
    {
     "name": "stderr",
     "output_type": "stream",
     "text": [
      "100%|██████████| 360000/360000 [00:04<00:00, 80596.73it/s]\n",
      "100%|██████████| 200/200 [00:00<00:00, 1782.93it/s]\n",
      "100%|██████████| 200/200 [00:00<00:00, 1695.22it/s]\n"
     ]
    },
    {
     "name": "stdout",
     "output_type": "stream",
     "text": [
      "Δ = 60.55187962377073\n",
      "perf = (100.0, 165.9, 260.0)\n",
      "Iteration #10\n"
     ]
    },
    {
     "name": "stderr",
     "output_type": "stream",
     "text": [
      "100%|██████████| 360000/360000 [00:04<00:00, 82068.24it/s]\n",
      "100%|██████████| 200/200 [00:00<00:00, 1276.49it/s]\n",
      "100%|██████████| 200/200 [00:00<00:00, 1479.54it/s]\n"
     ]
    },
    {
     "name": "stdout",
     "output_type": "stream",
     "text": [
      "Δ = 59.30983913359853\n",
      "perf = (100.0, 160.3, 260.0)\n",
      "Iteration #11\n"
     ]
    },
    {
     "name": "stderr",
     "output_type": "stream",
     "text": [
      "100%|██████████| 360000/360000 [00:04<00:00, 82414.96it/s]\n",
      "100%|██████████| 200/200 [00:00<00:00, 1571.82it/s]\n",
      "100%|██████████| 200/200 [00:00<00:00, 1729.76it/s]\n"
     ]
    },
    {
     "name": "stdout",
     "output_type": "stream",
     "text": [
      "Δ = 57.54827760149141\n",
      "perf = (100.0, 166.7, 280.0)\n",
      "Iteration #12\n"
     ]
    },
    {
     "name": "stderr",
     "output_type": "stream",
     "text": [
      "100%|██████████| 360000/360000 [00:04<00:00, 84717.13it/s]\n",
      "100%|██████████| 200/200 [00:00<00:00, 1712.42it/s]\n",
      "100%|██████████| 200/200 [00:00<00:00, 1891.50it/s]\n"
     ]
    },
    {
     "name": "stdout",
     "output_type": "stream",
     "text": [
      "Δ = 55.315186403867756\n",
      "perf = (100.0, 169.4, 280.0)\n",
      "Iteration #13\n"
     ]
    },
    {
     "name": "stderr",
     "output_type": "stream",
     "text": [
      "100%|██████████| 360000/360000 [00:04<00:00, 85202.31it/s]\n",
      "100%|██████████| 200/200 [00:00<00:00, 1940.49it/s]\n",
      "100%|██████████| 200/200 [00:00<00:00, 1522.57it/s]\n"
     ]
    },
    {
     "name": "stdout",
     "output_type": "stream",
     "text": [
      "Δ = 54.18056099402281\n",
      "perf = (100.0, 169.1, 260.0)\n",
      "Iteration #14\n"
     ]
    },
    {
     "name": "stderr",
     "output_type": "stream",
     "text": [
      "100%|██████████| 360000/360000 [00:04<00:00, 85015.00it/s]\n",
      "100%|██████████| 200/200 [00:00<00:00, 657.76it/s]\n",
      "100%|██████████| 200/200 [00:00<00:00, 1684.08it/s]\n"
     ]
    },
    {
     "name": "stdout",
     "output_type": "stream",
     "text": [
      "Δ = 52.571344151939115\n",
      "perf = (100.0, 175.5, 300.0)\n",
      "Iteration #15\n"
     ]
    },
    {
     "name": "stderr",
     "output_type": "stream",
     "text": [
      "100%|██████████| 360000/360000 [00:04<00:00, 85498.56it/s]\n",
      "100%|██████████| 200/200 [00:00<00:00, 1852.40it/s]\n",
      "100%|██████████| 200/200 [00:00<00:00, 1124.48it/s]\n"
     ]
    },
    {
     "name": "stdout",
     "output_type": "stream",
     "text": [
      "Δ = 50.531376827705685\n",
      "perf = (100.0, 175.3, 280.0)\n",
      "Iteration #16\n"
     ]
    },
    {
     "name": "stderr",
     "output_type": "stream",
     "text": [
      "100%|██████████| 360000/360000 [00:04<00:00, 82223.06it/s]\n",
      "100%|██████████| 200/200 [00:00<00:00, 1787.45it/s]\n",
      "100%|██████████| 200/200 [00:00<00:00, 1594.47it/s]\n"
     ]
    },
    {
     "name": "stdout",
     "output_type": "stream",
     "text": [
      "Δ = 49.49487694637901\n",
      "perf = (100.0, 174.3, 300.0)\n",
      "Iteration #17\n"
     ]
    },
    {
     "name": "stderr",
     "output_type": "stream",
     "text": [
      "100%|██████████| 360000/360000 [00:04<00:00, 83749.49it/s]\n",
      "100%|██████████| 200/200 [00:00<00:00, 1772.20it/s]\n",
      "100%|██████████| 200/200 [00:00<00:00, 1629.47it/s]\n"
     ]
    },
    {
     "name": "stdout",
     "output_type": "stream",
     "text": [
      "Δ = 48.024829606194544\n",
      "perf = (100.0, 180.2, 280.0)\n",
      "Iteration #18\n"
     ]
    },
    {
     "name": "stderr",
     "output_type": "stream",
     "text": [
      "100%|██████████| 360000/360000 [00:04<00:00, 81329.03it/s]\n",
      "100%|██████████| 200/200 [00:00<00:00, 1661.31it/s]\n",
      "100%|██████████| 200/200 [00:00<00:00, 1649.54it/s]\n"
     ]
    },
    {
     "name": "stdout",
     "output_type": "stream",
     "text": [
      "Δ = 46.16128427120452\n",
      "perf = (120.0, 183.3, 300.0)\n",
      "Iteration #19\n"
     ]
    },
    {
     "name": "stderr",
     "output_type": "stream",
     "text": [
      "100%|██████████| 360000/360000 [00:04<00:00, 82308.09it/s]\n",
      "100%|██████████| 200/200 [00:00<00:00, 1720.49it/s]\n",
      "100%|██████████| 200/200 [00:00<00:00, 1549.13it/s]\n"
     ]
    },
    {
     "name": "stdout",
     "output_type": "stream",
     "text": [
      "Δ = 45.21442375259767\n",
      "perf = (100.0, 180.2, 280.0)\n",
      "Iteration #20\n"
     ]
    },
    {
     "name": "stderr",
     "output_type": "stream",
     "text": [
      "100%|██████████| 360000/360000 [00:04<00:00, 86900.17it/s]\n",
      "100%|██████████| 200/200 [00:00<00:00, 1716.82it/s]\n",
      "100%|██████████| 200/200 [00:00<00:00, 1690.94it/s]\n"
     ]
    },
    {
     "name": "stdout",
     "output_type": "stream",
     "text": [
      "Δ = 43.871510152721726\n",
      "perf = (100.0, 184.5, 280.0)\n",
      "Iteration #21\n"
     ]
    },
    {
     "name": "stderr",
     "output_type": "stream",
     "text": [
      "100%|██████████| 360000/360000 [00:04<00:00, 83584.17it/s]\n",
      "100%|██████████| 200/200 [00:00<00:00, 1582.24it/s]\n",
      "100%|██████████| 200/200 [00:00<00:00, 1805.31it/s]\n"
     ]
    },
    {
     "name": "stdout",
     "output_type": "stream",
     "text": [
      "Δ = 42.169129347740636\n",
      "perf = (120.0, 185.5, 300.0)\n",
      "Iteration #22\n"
     ]
    },
    {
     "name": "stderr",
     "output_type": "stream",
     "text": [
      "100%|██████████| 360000/360000 [00:05<00:00, 68276.01it/s]\n",
      "100%|██████████| 200/200 [00:00<00:00, 1091.07it/s]\n",
      "100%|██████████| 200/200 [00:00<00:00, 1191.27it/s]\n"
     ]
    },
    {
     "name": "stdout",
     "output_type": "stream",
     "text": [
      "Δ = 41.30415593303189\n",
      "perf = (100.0, 188.9, 340.0)\n",
      "Iteration #23\n"
     ]
    },
    {
     "name": "stderr",
     "output_type": "stream",
     "text": [
      "100%|██████████| 360000/360000 [00:05<00:00, 65933.16it/s]\n",
      "100%|██████████| 200/200 [00:00<00:00, 1509.03it/s]\n",
      "100%|██████████| 200/200 [00:00<00:00, 1450.95it/s]\n"
     ]
    },
    {
     "name": "stdout",
     "output_type": "stream",
     "text": [
      "Δ = 39.88845481146768\n",
      "perf = (100.0, 187.9, 300.0)\n",
      "Iteration #24\n"
     ]
    },
    {
     "name": "stderr",
     "output_type": "stream",
     "text": [
      "100%|██████████| 360000/360000 [00:05<00:00, 61896.94it/s]\n",
      "100%|██████████| 200/200 [00:00<00:00, 895.97it/s]\n",
      "100%|██████████| 200/200 [00:00<00:00, 1594.47it/s]\n"
     ]
    },
    {
     "name": "stdout",
     "output_type": "stream",
     "text": [
      "Δ = 38.49817246972577\n",
      "perf = (120.0, 186.2, 360.0)\n",
      "Iteration #25\n"
     ]
    },
    {
     "name": "stderr",
     "output_type": "stream",
     "text": [
      "100%|██████████| 360000/360000 [00:05<00:00, 64862.72it/s]\n",
      "100%|██████████| 200/200 [00:00<00:00, 1342.35it/s]\n",
      "100%|██████████| 200/200 [00:00<00:00, 1331.12it/s]\n"
     ]
    },
    {
     "name": "stdout",
     "output_type": "stream",
     "text": [
      "Δ = 37.37807830727809\n",
      "perf = (120.0, 193.5, 280.0)\n",
      "Iteration #26\n"
     ]
    },
    {
     "name": "stderr",
     "output_type": "stream",
     "text": [
      "100%|██████████| 360000/360000 [00:05<00:00, 60235.41it/s]\n",
      "100%|██████████| 200/200 [00:00<00:00, 1202.97it/s]\n",
      "100%|██████████| 200/200 [00:00<00:00, 1143.37it/s]\n"
     ]
    },
    {
     "name": "stdout",
     "output_type": "stream",
     "text": [
      "Δ = 36.26791200347327\n",
      "perf = (120.0, 190.2, 260.0)\n",
      "Iteration #27\n"
     ]
    },
    {
     "name": "stderr",
     "output_type": "stream",
     "text": [
      "100%|██████████| 360000/360000 [00:05<00:00, 65233.84it/s]\n",
      "100%|██████████| 200/200 [00:00<00:00, 1475.53it/s]\n",
      "100%|██████████| 200/200 [00:00<00:00, 1468.35it/s]\n"
     ]
    },
    {
     "name": "stdout",
     "output_type": "stream",
     "text": [
      "Δ = 35.37391065409929\n",
      "perf = (120.0, 195.8, 320.0)\n",
      "Iteration #28\n"
     ]
    },
    {
     "name": "stderr",
     "output_type": "stream",
     "text": [
      "100%|██████████| 360000/360000 [00:05<00:00, 62361.49it/s]\n",
      "100%|██████████| 200/200 [00:00<00:00, 1211.90it/s]\n",
      "100%|██████████| 200/200 [00:00<00:00, 1283.91it/s]\n"
     ]
    },
    {
     "name": "stdout",
     "output_type": "stream",
     "text": [
      "Δ = 34.252882638219035\n",
      "perf = (120.0, 199.7, 300.0)\n",
      "Iteration #29\n"
     ]
    },
    {
     "name": "stderr",
     "output_type": "stream",
     "text": [
      "100%|██████████| 360000/360000 [00:05<00:00, 62254.01it/s]\n",
      "100%|██████████| 200/200 [00:00<00:00, 1002.19it/s]\n",
      "100%|██████████| 200/200 [00:00<00:00, 1385.81it/s]\n"
     ]
    },
    {
     "name": "stdout",
     "output_type": "stream",
     "text": [
      "Δ = 33.640237058099274\n",
      "perf = (100.0, 198.4, 300.0)\n",
      "Iteration #30\n"
     ]
    },
    {
     "name": "stderr",
     "output_type": "stream",
     "text": [
      "100%|██████████| 360000/360000 [00:05<00:00, 61537.82it/s]\n",
      "100%|██████████| 200/200 [00:00<00:00, 1222.09it/s]\n",
      "100%|██████████| 200/200 [00:00<00:00, 1203.67it/s]\n"
     ]
    },
    {
     "name": "stdout",
     "output_type": "stream",
     "text": [
      "Δ = 32.574150569338826\n",
      "perf = (140.0, 198.5, 340.0)\n",
      "Iteration #31\n"
     ]
    },
    {
     "name": "stderr",
     "output_type": "stream",
     "text": [
      "100%|██████████| 360000/360000 [00:05<00:00, 66090.87it/s]\n",
      "100%|██████████| 200/200 [00:00<00:00, 1478.29it/s]\n",
      "100%|██████████| 200/200 [00:00<00:00, 1285.61it/s]\n"
     ]
    },
    {
     "name": "stdout",
     "output_type": "stream",
     "text": [
      "Δ = 31.99153071853027\n",
      "perf = (120.0, 201.1, 300.0)\n",
      "Iteration #32\n"
     ]
    },
    {
     "name": "stderr",
     "output_type": "stream",
     "text": [
      "100%|██████████| 360000/360000 [00:05<00:00, 67176.78it/s]\n",
      "100%|██████████| 200/200 [00:00<00:00, 1447.38it/s]\n",
      "100%|██████████| 200/200 [00:00<00:00, 1454.27it/s]\n"
     ]
    },
    {
     "name": "stdout",
     "output_type": "stream",
     "text": [
      "Δ = 30.73093676201256\n",
      "perf = (120.0, 206.8, 320.0)\n",
      "Iteration #33\n"
     ]
    },
    {
     "name": "stderr",
     "output_type": "stream",
     "text": [
      "100%|██████████| 360000/360000 [00:05<00:00, 67956.35it/s]\n",
      "100%|██████████| 200/200 [00:00<00:00, 1429.79it/s]\n",
      "100%|██████████| 200/200 [00:00<00:00, 1325.87it/s]\n"
     ]
    },
    {
     "name": "stdout",
     "output_type": "stream",
     "text": [
      "Δ = 29.799487104728996\n",
      "perf = (120.0, 207.8, 340.0)\n",
      "Iteration #34\n"
     ]
    },
    {
     "name": "stderr",
     "output_type": "stream",
     "text": [
      "100%|██████████| 360000/360000 [00:05<00:00, 65012.42it/s]\n",
      "100%|██████████| 200/200 [00:00<00:00, 1352.85it/s]\n",
      "100%|██████████| 200/200 [00:00<00:00, 1521.25it/s]\n"
     ]
    },
    {
     "name": "stdout",
     "output_type": "stream",
     "text": [
      "Δ = 29.224815084779266\n",
      "perf = (140.0, 204.9, 320.0)\n",
      "Iteration #35\n"
     ]
    },
    {
     "name": "stderr",
     "output_type": "stream",
     "text": [
      "100%|██████████| 360000/360000 [00:05<00:00, 66376.54it/s]\n",
      "100%|██████████| 200/200 [00:00<00:00, 1195.07it/s]\n",
      "100%|██████████| 200/200 [00:00<00:00, 608.24it/s]\n"
     ]
    },
    {
     "name": "stdout",
     "output_type": "stream",
     "text": [
      "Δ = 28.219983447729874\n",
      "perf = (120.0, 208.7, 320.0)\n",
      "Iteration #36\n"
     ]
    },
    {
     "name": "stderr",
     "output_type": "stream",
     "text": [
      "100%|██████████| 360000/360000 [00:05<00:00, 66345.90it/s]\n",
      "100%|██████████| 200/200 [00:00<00:00, 1092.07it/s]\n",
      "100%|██████████| 200/200 [00:00<00:00, 1291.83it/s]\n"
     ]
    },
    {
     "name": "stdout",
     "output_type": "stream",
     "text": [
      "Δ = 27.183576917660275\n",
      "perf = (120.0, 207.1, 320.0)\n",
      "Iteration #37\n"
     ]
    },
    {
     "name": "stderr",
     "output_type": "stream",
     "text": [
      "100%|██████████| 360000/360000 [00:05<00:00, 65261.07it/s]\n",
      "100%|██████████| 200/200 [00:00<00:00, 1406.13it/s]\n",
      "100%|██████████| 200/200 [00:00<00:00, 1445.89it/s]\n"
     ]
    },
    {
     "name": "stdout",
     "output_type": "stream",
     "text": [
      "Δ = 26.836923467134056\n",
      "perf = (120.0, 214.4, 340.0)\n",
      "Iteration #38\n"
     ]
    },
    {
     "name": "stderr",
     "output_type": "stream",
     "text": [
      "100%|██████████| 360000/360000 [00:05<00:00, 65085.88it/s]\n",
      "100%|██████████| 200/200 [00:00<00:00, 1469.08it/s]\n",
      "100%|██████████| 200/200 [00:00<00:00, 1393.00it/s]\n"
     ]
    },
    {
     "name": "stdout",
     "output_type": "stream",
     "text": [
      "Δ = 25.779441603203395\n",
      "perf = (120.0, 214.4, 320.0)\n",
      "Iteration #39\n"
     ]
    },
    {
     "name": "stderr",
     "output_type": "stream",
     "text": [
      "100%|██████████| 360000/360000 [00:05<00:00, 69962.09it/s]\n",
      "100%|██████████| 200/200 [00:00<00:00, 1471.62it/s]\n",
      "100%|██████████| 200/200 [00:00<00:00, 1341.44it/s]\n"
     ]
    },
    {
     "name": "stdout",
     "output_type": "stream",
     "text": [
      "Δ = 24.868082073050346\n",
      "perf = (140.0, 211.4, 360.0)\n",
      "Iteration #40\n"
     ]
    },
    {
     "name": "stderr",
     "output_type": "stream",
     "text": [
      "100%|██████████| 360000/360000 [00:04<00:00, 72390.85it/s]\n",
      "100%|██████████| 200/200 [00:00<00:00, 1439.99it/s]\n",
      "100%|██████████| 200/200 [00:00<00:00, 1477.13it/s]\n"
     ]
    },
    {
     "name": "stdout",
     "output_type": "stream",
     "text": [
      "Δ = 24.515992456625327\n",
      "perf = (140.0, 212.4, 300.0)\n",
      "Iteration #41\n"
     ]
    },
    {
     "name": "stderr",
     "output_type": "stream",
     "text": [
      "100%|██████████| 360000/360000 [00:05<00:00, 67132.84it/s]\n",
      "100%|██████████| 200/200 [00:00<00:00, 1500.08it/s]\n",
      "100%|██████████| 200/200 [00:00<00:00, 1326.77it/s]\n"
     ]
    },
    {
     "name": "stdout",
     "output_type": "stream",
     "text": [
      "Δ = 23.549964535023946\n",
      "perf = (120.0, 216.3, 340.0)\n",
      "Iteration #42\n"
     ]
    },
    {
     "name": "stderr",
     "output_type": "stream",
     "text": [
      "100%|██████████| 360000/360000 [00:05<00:00, 63183.73it/s]\n",
      "100%|██████████| 200/200 [00:00<00:00, 1069.38it/s]\n",
      "100%|██████████| 200/200 [00:00<00:00, 1416.49it/s]\n"
     ]
    },
    {
     "name": "stdout",
     "output_type": "stream",
     "text": [
      "Δ = 22.967760201169085\n",
      "perf = (120.0, 216.6, 340.0)\n",
      "Iteration #43\n"
     ]
    },
    {
     "name": "stderr",
     "output_type": "stream",
     "text": [
      "100%|██████████| 360000/360000 [00:05<00:00, 63344.31it/s]\n",
      "100%|██████████| 200/200 [00:00<00:00, 1364.96it/s]\n",
      "100%|██████████| 200/200 [00:00<00:00, 1336.83it/s]\n"
     ]
    },
    {
     "name": "stdout",
     "output_type": "stream",
     "text": [
      "Δ = 22.406382281252945\n",
      "perf = (140.0, 217.5, 320.0)\n",
      "Iteration #44\n"
     ]
    },
    {
     "name": "stderr",
     "output_type": "stream",
     "text": [
      "100%|██████████| 360000/360000 [00:05<00:00, 62462.85it/s]\n",
      "100%|██████████| 200/200 [00:00<00:00, 1353.84it/s]\n",
      "100%|██████████| 200/200 [00:00<00:00, 1008.68it/s]\n"
     ]
    },
    {
     "name": "stdout",
     "output_type": "stream",
     "text": [
      "Δ = 21.842111419800744\n",
      "perf = (140.0, 218.8, 340.0)\n",
      "Iteration #45\n"
     ]
    },
    {
     "name": "stderr",
     "output_type": "stream",
     "text": [
      "100%|██████████| 360000/360000 [00:05<00:00, 64313.78it/s]\n",
      "100%|██████████| 200/200 [00:00<00:00, 1430.74it/s]\n",
      "100%|██████████| 200/200 [00:00<00:00, 1383.74it/s]\n"
     ]
    },
    {
     "name": "stdout",
     "output_type": "stream",
     "text": [
      "Δ = 21.19337886852179\n",
      "perf = (120.0, 222.7, 340.0)\n",
      "Iteration #46\n"
     ]
    },
    {
     "name": "stderr",
     "output_type": "stream",
     "text": [
      "100%|██████████| 360000/360000 [00:05<00:00, 62965.62it/s]\n",
      "100%|██████████| 200/200 [00:00<00:00, 1202.77it/s]\n",
      "100%|██████████| 200/200 [00:00<00:00, 1203.99it/s]\n"
     ]
    },
    {
     "name": "stdout",
     "output_type": "stream",
     "text": [
      "Δ = 20.77163062903776\n",
      "perf = (140.0, 218.3, 300.0)\n",
      "Iteration #47\n"
     ]
    },
    {
     "name": "stderr",
     "output_type": "stream",
     "text": [
      "100%|██████████| 360000/360000 [00:05<00:00, 61212.22it/s]\n",
      "100%|██████████| 200/200 [00:00<00:00, 1355.30it/s]\n",
      "100%|██████████| 200/200 [00:00<00:00, 1325.15it/s]\n"
     ]
    },
    {
     "name": "stdout",
     "output_type": "stream",
     "text": [
      "Δ = 20.358275179520092\n",
      "perf = (140.0, 220.8, 360.0)\n",
      "Iteration #48\n"
     ]
    },
    {
     "name": "stderr",
     "output_type": "stream",
     "text": [
      "100%|██████████| 360000/360000 [00:05<00:00, 65054.40it/s]\n",
      "100%|██████████| 200/200 [00:00<00:00, 1464.34it/s]\n",
      "100%|██████████| 200/200 [00:00<00:00, 1365.78it/s]\n"
     ]
    },
    {
     "name": "stdout",
     "output_type": "stream",
     "text": [
      "Δ = 19.753614048413283\n",
      "perf = (140.0, 218.7, 340.0)\n",
      "Iteration #49\n"
     ]
    },
    {
     "name": "stderr",
     "output_type": "stream",
     "text": [
      "100%|██████████| 360000/360000 [00:05<00:00, 62783.83it/s]\n",
      "100%|██████████| 200/200 [00:00<00:00, 1381.14it/s]\n",
      "100%|██████████| 200/200 [00:00<00:00, 1258.93it/s]\n"
     ]
    },
    {
     "name": "stdout",
     "output_type": "stream",
     "text": [
      "Δ = 19.295524988333\n",
      "perf = (140.0, 225.9, 340.0)\n"
     ]
    },
    {
     "data": {
      "image/png": "[encoded data removed]",
      "text/plain": [
       "<Figure size 640x480 with 1 Axes>"
      ]
     },
     "metadata": {},
     "output_type": "display_data"
    },
    {
     "data": {
      "image/png": "[encoded data removed]",
      "text/plain": [
       "<Figure size 640x480 with 1 Axes>"
      ]
     },
     "metadata": {},
     "output_type": "display_data"
    }
   ],
   "source": [
    "γs = [0.5,0.9,0.99]\n",
    "arm_nbr = 2\n",
    "α_res = 60\n",
    "x_res = 10\n",
    "ε = 0.001\n",
    "max_iter = 50\n",
    "policies = {}\n",
    "records = {}\n",
    "for γ in γs:\n",
    "    game = Reacher(arm_nbr=arm_nbr, α_res=α_res, x_res=x_res, reward_reach=20, reward_gradient_multiplier=0)\n",
    "    π,rec = valueIteration(game, ε, γ, max_iter=max_iter)\n",
    "    policies[\"γ={:0.2f}\".format(γ)] = π\n",
    "    records[\"γ={:0.2f}\".format(γ)] = rec\n",
    "filename = 'R{}_{}_{}_VI_noDistanceReward_γs={}'.format(arm_nbr,α_res,x_res,γs)\n",
    "outfile = open(filename,'wb')\n",
    "pickle.dump((policies,records),outfile)\n",
    "outfile.close()\n",
    "analysis(records)"
   ]
  },
  {
   "cell_type": "code",
   "execution_count": 85,
   "metadata": {},
   "outputs": [
    {
     "name": "stderr",
     "output_type": "stream",
     "text": [
      "100%|██████████| 200/200 [00:00<00:00, 3284.52it/s]\n"
     ]
    },
    {
     "name": "stdout",
     "output_type": "stream",
     "text": [
      "Iteration #0\n"
     ]
    },
    {
     "name": "stderr",
     "output_type": "stream",
     "text": [
      "100%|██████████| 1/1 [00:00<00:00,  1.12it/s]\n",
      "100%|██████████| 360000/360000 [1:54:41<00:00, 52.31it/s]  \n",
      "100%|██████████| 200/200 [00:00<00:00, 2945.95it/s]\n",
      "100%|██████████| 200/200 [00:00<00:00, 2324.15it/s]\n"
     ]
    },
    {
     "name": "stdout",
     "output_type": "stream",
     "text": [
      "perf = (4.77405747492616, 6.1060344698283195, 8.103726563840441)\n"
     ]
    },
    {
     "data": {
      "image/png": "[encoded data removed]",
      "text/plain": [
       "<Figure size 640x480 with 1 Axes>"
      ]
     },
     "metadata": {},
     "output_type": "display_data"
    },
    {
     "data": {
      "image/png": "[encoded data removed]",
      "text/plain": [
       "<Figure size 640x480 with 1 Axes>"
      ]
     },
     "metadata": {},
     "output_type": "display_data"
    }
   ],
   "source": [
    "eval_iter = 1\n",
    "γs = [0.5]\n",
    "arm_nbr = 2\n",
    "α_res = 60\n",
    "x_res = 10\n",
    "ε = 0.001\n",
    "max_iter = 1\n",
    "policies = {}\n",
    "records = {}\n",
    "\n",
    "for γ in γs:\n",
    "    game = Reacher(arm_nbr=arm_nbr, α_res=α_res, x_res=x_res, reward_reach=20)\n",
    "    π,rec = policyIteration(game, γ, eval_iter=eval_iter, max_iter=max_iter)\n",
    "    policies[\"γ={:0.1f}\".format(γ)] = π\n",
    "    records[\"γ={:0.1f}\".format(γ)] = rec\n",
    "filename = 'R{}_{}_{}_PI_γs={}'.format(arm_nbr,α_res,x_res,γs)\n",
    "outfile = open(filename,'wb')\n",
    "pickle.dump((policies,records),outfile)\n",
    "outfile.close()\n",
    "analysis(records)"
   ]
  },
  {
   "cell_type": "code",
   "execution_count": 83,
   "metadata": {},
   "outputs": [
    {
     "name": "stderr",
     "output_type": "stream",
     "text": [
      "100%|██████████| 200/200 [00:00<00:00, 3038.38it/s]\n",
      "100%|██████████| 120/120 [00:00<00:00, 3440.28it/s]\n",
      "100%|██████████| 120/120 [00:00<00:00, 4103.05it/s]\n",
      "100%|██████████| 120/120 [00:00<00:00, 3297.21it/s]\n",
      "100%|██████████| 120/120 [00:00<00:00, 2430.69it/s]\n",
      "100%|██████████| 120/120 [00:00<00:00, 3629.02it/s]\n",
      "100%|██████████| 120/120 [00:00<00:00, 3227.01it/s]\n",
      "100%|██████████| 120/120 [00:00<00:00, 3206.61it/s]\n",
      "100%|██████████| 120/120 [00:00<00:00, 3293.50it/s]\n",
      "100%|██████████| 120/120 [00:00<00:00, 3172.30it/s]\n",
      "100%|██████████| 120/120 [00:00<00:00, 3071.70it/s]\n",
      "100%|██████████| 120/120 [00:00<00:00, 3161.08it/s]\n",
      "100%|██████████| 120/120 [00:00<00:00, 3177.72it/s]\n",
      "100%|██████████| 120/120 [00:00<00:00, 2821.09it/s]\n",
      "100%|██████████| 120/120 [00:00<00:00, 2276.44it/s]\n",
      "100%|██████████| 120/120 [00:00<00:00, 3232.23it/s]\n",
      "100%|██████████| 120/120 [00:00<00:00, 3023.12it/s]\n",
      "100%|██████████| 120/120 [00:00<00:00, 2913.20it/s]\n",
      "100%|██████████| 120/120 [00:00<00:00, 3286.21it/s]\n",
      "100%|██████████| 120/120 [00:00<00:00, 3458.13it/s]\n",
      "100%|██████████| 120/120 [00:00<00:00, 3551.94it/s]\n",
      "100%|██████████| 1000/1000 [21:05<00:00,  1.27s/it]\n",
      "100%|██████████| 200/200 [00:00<00:00, 2663.76it/s]\n",
      "100%|██████████| 120/120 [00:00<00:00, 2812.30it/s]\n",
      "100%|██████████| 120/120 [00:00<00:00, 3315.96it/s]\n",
      "100%|██████████| 120/120 [00:00<00:00, 3579.09it/s]\n",
      "100%|██████████| 120/120 [00:00<00:00, 3626.70it/s]\n",
      "100%|██████████| 120/120 [00:00<00:00, 2382.13it/s]\n",
      "100%|██████████| 120/120 [00:00<00:00, 3358.22it/s]\n",
      "100%|██████████| 120/120 [00:00<00:00, 3361.13it/s]\n",
      "100%|██████████| 120/120 [00:00<00:00, 3599.46it/s]\n",
      "100%|██████████| 120/120 [00:00<00:00, 3315.44it/s]\n",
      "100%|██████████| 120/120 [00:00<00:00, 4637.54it/s]\n",
      "100%|██████████| 120/120 [00:00<00:00, 3253.25it/s]\n",
      "100%|██████████| 120/120 [00:00<00:00, 3519.08it/s]\n",
      "100%|██████████| 120/120 [00:00<00:00, 3235.62it/s]\n",
      "100%|██████████| 120/120 [00:00<00:00, 3123.11it/s]\n",
      "100%|██████████| 120/120 [00:00<00:00, 3595.99it/s]\n",
      "100%|██████████| 120/120 [00:00<00:00, 3396.95it/s]\n",
      "100%|██████████| 120/120 [00:00<00:00, 3934.16it/s]\n",
      "100%|██████████| 120/120 [00:00<00:00, 1505.16it/s]\n",
      "100%|██████████| 120/120 [00:00<00:00, 2429.02it/s]\n",
      "100%|██████████| 120/120 [00:00<00:00, 2365.75it/s]\n",
      "100%|██████████| 1000/1000 [24:26<00:00,  1.47s/it]\n"
     ]
    },
    {
     "data": {
      "image/png": "[encoded data removed]",
      "text/plain": [
       "<Figure size 640x480 with 1 Axes>"
      ]
     },
     "metadata": {},
     "output_type": "display_data"
    },
    {
     "data": {
      "image/png": "[encoded data removed]",
      "text/plain": [
       "<Figure size 640x480 with 1 Axes>"
      ]
     },
     "metadata": {},
     "output_type": "display_data"
    }
   ],
   "source": [
    "arm_nbr = 2\n",
    "α_res = 60\n",
    "x_res = 10\n",
    "γ = 0.5\n",
    "α = 0.5\n",
    "qinit = 0\n",
    "qpolicy = εGreedy\n",
    "nbr_episode = 1000\n",
    "nbr_turns = 100\n",
    "rec_period = 50\n",
    "policies = {}\n",
    "records = {}\n",
    "\n",
    "qpolicy_args = {'epsilon':0.2}\n",
    "game = Reacher(arm_nbr=arm_nbr, α_res=α_res, x_res=x_res, reward_reach=20)\n",
    "π,rec = Qlearning(game, γ, α, qpolicy=qpolicy, qpolicy_args=qpolicy_args, qinit=0, nbr_turns=nbr_turns, nbr_episode=nbr_episode, rec_period=rec_period, verbose=False)\n",
    "policies[\"ε-Greedy\"] = π\n",
    "records[\"ε-Greedy\"] = rec\n",
    "\n",
    "qpolicy_args = {'epsilon':0.05}\n",
    "game = Reacher(arm_nbr=arm_nbr, α_res=α_res, x_res=x_res, reward_reach=20)\n",
    "π,rec = Qlearning(game, γ, α, qpolicy=qpolicy, qpolicy_args=qpolicy_args, qinit=5, nbr_turns=nbr_turns, nbr_episode=nbr_episode, rec_period=rec_period, verbose=False)\n",
    "policies[\"Optimistic init\"] = π\n",
    "records[\"Optimistic init\"] = rec\n",
    "\n",
    "filename = 'R{}_{}_{}_QL_exploStrats'.format(arm_nbr,α_res,x_res)\n",
    "outfile = open(filename,'wb')\n",
    "pickle.dump((policies,records),outfile)\n",
    "outfile.close()\n",
    "analysis(records)"
   ]
  },
  {
   "cell_type": "code",
   "execution_count": 84,
   "metadata": {},
   "outputs": [
    {
     "name": "stderr",
     "output_type": "stream",
     "text": [
      "100%|██████████| 200/200 [00:00<00:00, 4424.56it/s]\n",
      "100%|██████████| 120/120 [00:00<00:00, 3637.78it/s]\n",
      "100%|██████████| 120/120 [00:00<00:00, 3564.89it/s]\n",
      "100%|██████████| 120/120 [00:00<00:00, 3472.94it/s]\n",
      "100%|██████████| 120/120 [00:00<00:00, 4451.88it/s]\n",
      "100%|██████████| 120/120 [00:00<00:00, 3513.06it/s]\n",
      "100%|██████████| 120/120 [00:00<00:00, 3583.04it/s]\n",
      "100%|██████████| 120/120 [00:00<00:00, 3582.32it/s]\n",
      "100%|██████████| 120/120 [00:00<00:00, 3445.25it/s]\n",
      "100%|██████████| 120/120 [00:00<00:00, 3917.96it/s]\n",
      "100%|██████████| 120/120 [00:00<00:00, 3051.22it/s]\n",
      "100%|██████████| 1000/1000 [22:19<00:00,  1.34s/it]\n",
      "100%|██████████| 200/200 [00:00<00:00, 3477.11it/s]\n",
      "100%|██████████| 120/120 [00:00<00:00, 2978.33it/s]\n",
      "100%|██████████| 120/120 [00:00<00:00, 2408.22it/s]\n",
      "100%|██████████| 120/120 [00:00<00:00, 2313.10it/s]\n",
      "100%|██████████| 120/120 [00:00<00:00, 2558.67it/s]\n",
      "100%|██████████| 120/120 [00:00<00:00, 2133.22it/s]\n",
      "100%|██████████| 120/120 [00:00<00:00, 2971.08it/s]\n",
      "100%|██████████| 120/120 [00:00<00:00, 2403.42it/s]\n",
      "100%|██████████| 120/120 [00:00<00:00, 2945.68it/s]\n",
      "100%|██████████| 120/120 [00:00<00:00, 3532.57it/s]\n",
      "100%|██████████| 120/120 [00:00<00:00, 2918.03it/s]\n",
      "100%|██████████| 1000/1000 [29:18<00:00,  1.76s/it]\n",
      "100%|██████████| 200/200 [00:00<00:00, 2435.08it/s]\n",
      "100%|██████████| 120/120 [00:00<00:00, 1208.41it/s]\n",
      "100%|██████████| 120/120 [00:00<00:00, 1027.07it/s] \n",
      "100%|██████████| 120/120 [00:00<00:00, 948.19it/s]\n",
      "100%|██████████| 120/120 [00:00<00:00, 1280.18it/s]\n",
      "100%|██████████| 120/120 [00:00<00:00, 527.56it/s]\n",
      "100%|██████████| 120/120 [00:00<00:00, 1188.01it/s]\n",
      "100%|██████████| 120/120 [00:00<00:00, 1095.54it/s]\n",
      "100%|██████████| 120/120 [00:00<00:00, 1111.13it/s]\n",
      "100%|██████████| 120/120 [00:00<00:00, 216.23it/s]\n",
      "100%|██████████| 120/120 [00:00<00:00, 1108.02it/s]\n",
      "100%|██████████| 1000/1000 [59:10<00:00,  3.55s/it]\n"
     ]
    },
    {
     "data": {
      "image/png": "[encoded data removed]",
      "text/plain": [
       "<Figure size 640x480 with 1 Axes>"
      ]
     },
     "metadata": {},
     "output_type": "display_data"
    },
    {
     "data": {
      "image/png": "[encoded data removed]",
      "text/plain": [
       "<Figure size 640x480 with 1 Axes>"
      ]
     },
     "metadata": {},
     "output_type": "display_data"
    }
   ],
   "source": [
    "γs = [0.5,0.9,0.99]\n",
    "arm_nbr = 2\n",
    "α_res = 60\n",
    "x_res = 10\n",
    "α = 0.5\n",
    "qinit = 0\n",
    "\n",
    "qpolicy = εGreedy\n",
    "qpolicy_args = {'epsilon':0.2}\n",
    "nbr_episode = 1000\n",
    "nbr_turns = 200\n",
    "rec_period = 100\n",
    "policies = {}\n",
    "records = {}\n",
    "for γ in γs:\n",
    "    game = Reacher(arm_nbr=arm_nbr, α_res=α_res, x_res=x_res, reward_reach=20)\n",
    "    π,rec = Qlearning(game, γ, α, qpolicy=qpolicy, qpolicy_args=qpolicy_args, qinit=0, nbr_turns=nbr_turns, nbr_episode=nbr_episode, rec_period=rec_period, verbose=False)\n",
    "    policies[\"γ={:0.1f}\".format(γ)] = π\n",
    "    records[\"γ={:0.1f}\".format(γ)] = rec\n",
    "filename = 'R{}_{}_{}_QL_γs={}'.format(arm_nbr,α_res,x_res,γs)\n",
    "outfile = open(filename,'wb')\n",
    "pickle.dump((policies,records),outfile)\n",
    "outfile.close()\n",
    "analysis(records)"
   ]
  },
  {
   "cell_type": "code",
   "execution_count": 79,
   "metadata": {},
   "outputs": [
    {
     "data": {
      "image/png": "[encoded data removed]",
      "text/plain": [
       "<Figure size 640x480 with 1 Axes>"
      ]
     },
     "metadata": {},
     "output_type": "display_data"
    },
    {
     "data": {
      "image/png": "[encoded data removed]",
      "text/plain": [
       "<Figure size 640x480 with 1 Axes>"
      ]
     },
     "metadata": {},
     "output_type": "display_data"
    },
    {
     "name": "stdout",
     "output_type": "stream",
     "text": [
      "{'ε-Greedy': [((2.0110420407059273, 2.3440762925518994, 2.750158133054385), 0), ((2.11225463453385, 8.312754511552718, 62.509155315107044), 128.98061869908983), ((2.079760619181425, 18.935770373654407, 62.50716879144686), 126.86212988910441), ((2.0800402038194585, 16.387273150752556, 102.3972795238044), 126.64122551523259), ((2.027175407416564, 19.80398861765784, 122.31258496859309), 124.69562943423479), ((2.0466890367565864, 19.34150354137119, 102.55461838391909), 126.0634760745554), ((2.1345318652831997, 27.449046804298757, 142.20951486130136), 124.91997438360288), ((2.08339500334944, 20.173182605790828, 122.36259822024988), 126.22202660391727), ((2.1013912760468663, 23.525301989784698, 102.397721409814), 127.83583222242503), ((2.1346180729761666, 19.521550244548404, 122.33445530966571), 126.54643416548726), ((2.0466890367565864, 18.79189677846509, 202.2241945265017), 125.19584657647394), ((2.0814083804060686, 28.307823286320325, 142.26169473986693), 125.62245022288015), ((2.0770277955225933, 23.457670397009068, 122.4114408885377), 126.47134062703692), ((2.106820620607112, 19.005549341118705, 102.47564959502218), 126.10313239567049), ((2.092431389868443, 23.128679786951174, 142.36124817039473), 126.07934009979589), ((2.135964693829763, 23.98416457149898, 202.1760434122133), 125.64234954823155), ((2.0466890367565864, 25.9348752790156, 142.2002132502533), 124.48293055676348), ((2.1258032925322508, 24.456694480707412, 162.1687067337841), 126.64122551523259), ((2.21562375911537, 24.314035774305527, 122.3741801711121), 125.50697191789786), ((2.1258032925322508, 22.498554036824324, 142.43391938341017), 126.55828696691498), ((2.1769133198241226, 23.14244812493246, 122.3356932680353), 125.14391715141412)], 'Optimistic init': [((2.032923205427669, 2.366279464279292, 2.8034934119214614), 0), ((1.9797835884014061, 10.197409491139778, 102.49209690941017), 70.5620294492725), ((2.071698871566786, 19.219873783638512, 102.50192312398451), 70.06425622241343), ((2.110134211108718, 29.924846743060286, 162.31103009280994), 63.229739838148944), ((2.2983999726481823, 32.14320101783787, 142.40926015299908), 64.4980619863884), ((2.295130038517426, 31.629782196222234, 122.19748981694443), 63.17436188834834), ((2.147232495219849, 33.784850901574416, 142.09424242868147), 59.85816569190874), ((2.43355208406898, 42.25434693536388, 142.34594019760033), 62.80127387243033), ((2.3973252989558396, 31.77949787518649, 142.30163293094014), 63.51377803280167), ((2.1377584904768745, 31.150542141975716, 122.30216445026478), 61.99193495931547), ((2.002651717905963, 34.435022649836675, 142.36646221053854), 63.198101237299845), ((2.2767989708908916, 33.95080384088371, 102.40441207901884), 61.862751312886175), ((2.2249892850179114, 35.447103124695005, 142.3880817120218), 63.047601064592456), ((2.135964693829763, 33.43571012299222, 142.35483730156804), 62.92058486695749), ((2.1440054356049516, 32.4525009493827, 122.4155751515274), 60.199667773169644), ((2.2731265228522752, 32.145554128806154, 182.25112776601804), 63.20601237224193), ((2.2689314044475473, 37.28876648339944, 162.14277052686984), 61.24540799113024), ((2.265227773794301, 36.95241348156508, 122.29180205004685), 62.25752966509352), ((2.7718981327492798, 39.76151141755562, 142.19470673358373), 63.4428877022476), ((2.3392172644019813, 35.77158776919841, 122.4380465970688), 63.23764701504951), ((2.0885713221499995, 34.27156518708731, 122.4288506014183), 61.97580172938467)]}\n"
     ]
    }
   ],
   "source": [
    "filename=\"R2_20_6_QL_exploStrats\"\n",
    "with open(filename, 'rb') as file:\n",
    "    # Load the data from the file\n",
    "    data_tuple = pickle.load(file)[1]\n",
    "    analysis(data_tuple)\n",
    "    print(data_tuple)"
   ]
  },
  {
   "cell_type": "code",
   "execution_count": 78,
   "metadata": {},
   "outputs": [],
   "source": [
    "def analysis(records):\n",
    "    # plotArgs = {'γ=0.5':{'dashes':[2,1]}, 'γ=0.9':{'dashes':[4,1]}, 'γ=0.99':{'dashes':[2,0]}, 'default':{'dashes':[0.5,0]}}\n",
    "    # plotArgs = {'ε=0.00':{'alpha':1}, 'ε=0.25':{'alpha':0.8}, 'ε=0.50':{'alpha':0.6}, 'ε=0.75':{'alpha':0.4}, 'ε=1.00':{'alpha':0.2}, 'default':{'dashes':[0.5,0]}}\n",
    "    # plotArgs = {'α=0.01':{'alpha':1}, 'α=0.04':{'alpha':0.8}, 'α=0.10':{'alpha':0.6}, 'α=0.25':{'alpha':0.4}, 'α=0.50':{'alpha':0.2}, 'α=0.90':{'alpha':0.1}, 'default':{'dashes':[0.5,0]}}\n",
    "    plotArgs = {'Optimistic init':{'dashes':[2,0]}, 'ε-Greedy':{'dashes':[5,1]}, 'εp-Random':{'dashes':[3,1]}, 'εβp-Random':{'dashes':[1,1]}, 'default':{'dashes':[0.5,0]}}\n",
    "    for label,rec in records.items():\n",
    "        perfs, dists = zip(*rec)\n",
    "        perfs = perfs[:50]\n",
    "        dists = dists[:50]\n",
    "        plt.figure(1)\n",
    "        plt.plot(range(len(perfs)), [entry[1] for entry in perfs], color=\"IndianRed\", linewidth=3, label=label, **plotArgs.get(label, plotArgs['default']))\n",
    "        # plt.fill_between(range(len(perfs)), [entry[0] for entry in perfs], [entry[2] for entry in perfs], color=\"IndianRed\", alpha=0.15)\n",
    "        plt.xlabel(\"Iteration\")\n",
    "        plt.ylabel(\"Score\")\n",
    "        plt.legend()\n",
    "        plt.figure(2)\n",
    "        plt.plot(range(1,len(dists)), dists[1:], color=\"SteelBlue\", linewidth=3, label=label, **plotArgs.get(label, plotArgs['default']))\n",
    "        plt.xlabel(\"Iteration\")\n",
    "        plt.ylabel(\"Policy change\")\n",
    "        plt.legend()\n",
    "    plt.show()"
   ]
  },
  {
   "cell_type": "code",
   "execution_count": null,
   "metadata": {},
   "outputs": [],
   "source": []
  }
 ],
 "metadata": {
  "kernelspec": {
   "display_name": "Python 3",
   "language": "python",
   "name": "python3"
  },
  "language_info": {
   "codemirror_mode": {
    "name": "ipython",
    "version": 3
   },
   "file_extension": ".py",
   "mimetype": "text/x-python",
   "name": "python",
   "nbconvert_exporter": "python",
   "pygments_lexer": "ipython3",
   "version": "3.12.2"
  }
 },
 "nbformat": 4,
 "nbformat_minor": 2
}
